{
 "cells": [
  {
   "cell_type": "markdown",
   "metadata": {},
   "source": [
    "# ClioMakeUp Survey Data Analysis"
   ]
  },
  {
   "cell_type": "markdown",
   "metadata": {},
   "source": [
    "## Dataframe preparation"
   ]
  },
  {
   "cell_type": "markdown",
   "metadata": {},
   "source": [
    "### Read Excel response file and do initial cleanup"
   ]
  },
  {
   "cell_type": "code",
   "execution_count": 1,
   "metadata": {},
   "outputs": [],
   "source": [
    "import pandas as pd\n",
    "from IPython.display import display\n",
    "\n",
    "pd.set_option('display.max_columns', 7)"
   ]
  },
  {
   "cell_type": "code",
   "execution_count": 2,
   "metadata": {},
   "outputs": [
    {
     "data": {
      "text/html": [
       "<div>\n",
       "<style scoped>\n",
       "    .dataframe tbody tr th:only-of-type {\n",
       "        vertical-align: middle;\n",
       "    }\n",
       "\n",
       "    .dataframe tbody tr th {\n",
       "        vertical-align: top;\n",
       "    }\n",
       "\n",
       "    .dataframe thead th {\n",
       "        text-align: right;\n",
       "    }\n",
       "</style>\n",
       "<table border=\"1\" class=\"dataframe\">\n",
       "  <thead>\n",
       "    <tr style=\"text-align: right;\">\n",
       "      <th></th>\n",
       "      <th>Hai mai acquistato prodotti di ClioMakeUp?</th>\n",
       "      <th>Con che frequenza acquisti da ClioMakeUp? (Sia nell'e-commerce che negli store)</th>\n",
       "      <th>Dove effettui gli acquisti?</th>\n",
       "      <th>...</th>\n",
       "      <th>Dove vivi?</th>\n",
       "      <th>In quale provincia vivi?</th>\n",
       "      <th>Per chi acquisti i prodotti di ClioMakeUp?</th>\n",
       "    </tr>\n",
       "  </thead>\n",
       "  <tbody>\n",
       "    <tr>\n",
       "      <th>0</th>\n",
       "      <td>Si</td>\n",
       "      <td>da 1 a 2 volte l'anno</td>\n",
       "      <td>E-commerce, PopUp Store</td>\n",
       "      <td>...</td>\n",
       "      <td>Italia</td>\n",
       "      <td>Alessandria</td>\n",
       "      <td>Me, Famiglia, Amic*</td>\n",
       "    </tr>\n",
       "    <tr>\n",
       "      <th>1</th>\n",
       "      <td>No</td>\n",
       "      <td>NaN</td>\n",
       "      <td>NaN</td>\n",
       "      <td>...</td>\n",
       "      <td>Italia</td>\n",
       "      <td>Alessandria</td>\n",
       "      <td>NaN</td>\n",
       "    </tr>\n",
       "    <tr>\n",
       "      <th>2</th>\n",
       "      <td>No</td>\n",
       "      <td>NaN</td>\n",
       "      <td>NaN</td>\n",
       "      <td>...</td>\n",
       "      <td>Italia</td>\n",
       "      <td>Alessandria</td>\n",
       "      <td>NaN</td>\n",
       "    </tr>\n",
       "    <tr>\n",
       "      <th>3</th>\n",
       "      <td>Si</td>\n",
       "      <td>da 1 a 2 volte l'anno</td>\n",
       "      <td>ClioMakeUp Experience Store</td>\n",
       "      <td>...</td>\n",
       "      <td>Italia</td>\n",
       "      <td>Alessandria</td>\n",
       "      <td>Me</td>\n",
       "    </tr>\n",
       "    <tr>\n",
       "      <th>4</th>\n",
       "      <td>Si</td>\n",
       "      <td>da 5 a 6 volte l'anno</td>\n",
       "      <td>E-commerce</td>\n",
       "      <td>...</td>\n",
       "      <td>Italia</td>\n",
       "      <td>Ancona</td>\n",
       "      <td>Me</td>\n",
       "    </tr>\n",
       "    <tr>\n",
       "      <th>...</th>\n",
       "      <td>...</td>\n",
       "      <td>...</td>\n",
       "      <td>...</td>\n",
       "      <td>...</td>\n",
       "      <td>...</td>\n",
       "      <td>...</td>\n",
       "      <td>...</td>\n",
       "    </tr>\n",
       "    <tr>\n",
       "      <th>324</th>\n",
       "      <td>No</td>\n",
       "      <td>NaN</td>\n",
       "      <td>NaN</td>\n",
       "      <td>...</td>\n",
       "      <td>Italia</td>\n",
       "      <td>VE</td>\n",
       "      <td>NaN</td>\n",
       "    </tr>\n",
       "    <tr>\n",
       "      <th>325</th>\n",
       "      <td>Si</td>\n",
       "      <td>da 1 a 2 volte l'anno</td>\n",
       "      <td>E-commerce</td>\n",
       "      <td>...</td>\n",
       "      <td>Italia</td>\n",
       "      <td>Tv</td>\n",
       "      <td>Me</td>\n",
       "    </tr>\n",
       "    <tr>\n",
       "      <th>326</th>\n",
       "      <td>No</td>\n",
       "      <td>NaN</td>\n",
       "      <td>NaN</td>\n",
       "      <td>...</td>\n",
       "      <td>Italia</td>\n",
       "      <td>Vicenza</td>\n",
       "      <td>NaN</td>\n",
       "    </tr>\n",
       "    <tr>\n",
       "      <th>327</th>\n",
       "      <td>No</td>\n",
       "      <td>NaN</td>\n",
       "      <td>NaN</td>\n",
       "      <td>...</td>\n",
       "      <td>Italia</td>\n",
       "      <td>Rovigo</td>\n",
       "      <td>NaN</td>\n",
       "    </tr>\n",
       "    <tr>\n",
       "      <th>328</th>\n",
       "      <td>No</td>\n",
       "      <td>NaN</td>\n",
       "      <td>NaN</td>\n",
       "      <td>...</td>\n",
       "      <td>Italia</td>\n",
       "      <td>Treviso</td>\n",
       "      <td>NaN</td>\n",
       "    </tr>\n",
       "  </tbody>\n",
       "</table>\n",
       "<p>329 rows × 14 columns</p>\n",
       "</div>"
      ],
      "text/plain": [
       "    Hai mai acquistato prodotti di ClioMakeUp?   \\\n",
       "0                                            Si   \n",
       "1                                            No   \n",
       "2                                            No   \n",
       "3                                            Si   \n",
       "4                                            Si   \n",
       "..                                          ...   \n",
       "324                                          No   \n",
       "325                                          Si   \n",
       "326                                          No   \n",
       "327                                          No   \n",
       "328                                          No   \n",
       "\n",
       "    Con che frequenza acquisti da ClioMakeUp? (Sia nell'e-commerce che negli store)  \\\n",
       "0                                da 1 a 2 volte l'anno                                \n",
       "1                                                  NaN                                \n",
       "2                                                  NaN                                \n",
       "3                                da 1 a 2 volte l'anno                                \n",
       "4                                da 5 a 6 volte l'anno                                \n",
       "..                                                 ...                                \n",
       "324                                                NaN                                \n",
       "325                              da 1 a 2 volte l'anno                                \n",
       "326                                                NaN                                \n",
       "327                                                NaN                                \n",
       "328                                                NaN                                \n",
       "\n",
       "     Dove effettui gli acquisti?  ... Dove vivi? In quale provincia vivi?  \\\n",
       "0        E-commerce, PopUp Store  ...     Italia              Alessandria   \n",
       "1                            NaN  ...     Italia              Alessandria   \n",
       "2                            NaN  ...     Italia              Alessandria   \n",
       "3    ClioMakeUp Experience Store  ...     Italia             Alessandria    \n",
       "4                     E-commerce  ...     Italia                   Ancona   \n",
       "..                           ...  ...        ...                      ...   \n",
       "324                          NaN  ...     Italia                       VE   \n",
       "325                   E-commerce  ...     Italia                       Tv   \n",
       "326                          NaN  ...     Italia                  Vicenza   \n",
       "327                          NaN  ...     Italia                   Rovigo   \n",
       "328                          NaN  ...     Italia                 Treviso    \n",
       "\n",
       "    Per chi acquisti i prodotti di ClioMakeUp?  \n",
       "0                          Me, Famiglia, Amic*  \n",
       "1                                          NaN  \n",
       "2                                          NaN  \n",
       "3                                           Me  \n",
       "4                                           Me  \n",
       "..                                         ...  \n",
       "324                                        NaN  \n",
       "325                                         Me  \n",
       "326                                        NaN  \n",
       "327                                        NaN  \n",
       "328                                        NaN  \n",
       "\n",
       "[329 rows x 14 columns]"
      ]
     },
     "execution_count": 2,
     "metadata": {},
     "output_type": "execute_result"
    }
   ],
   "source": [
    "# Read response file\n",
    "response_file = '../data/risposte.xlsx'\n",
    "df = pd.read_excel(response_file)\n",
    "\n",
    "# Remove timestamps\n",
    "df = df.drop(df.columns[0], axis=1)\n",
    "df"
   ]
  },
  {
   "cell_type": "code",
   "execution_count": 3,
   "metadata": {},
   "outputs": [
    {
     "data": {
      "text/html": [
       "<div>\n",
       "<style scoped>\n",
       "    .dataframe tbody tr th:only-of-type {\n",
       "        vertical-align: middle;\n",
       "    }\n",
       "\n",
       "    .dataframe tbody tr th {\n",
       "        vertical-align: top;\n",
       "    }\n",
       "\n",
       "    .dataframe thead th {\n",
       "        text-align: right;\n",
       "    }\n",
       "</style>\n",
       "<table border=\"1\" class=\"dataframe\">\n",
       "  <thead>\n",
       "    <tr style=\"text-align: right;\">\n",
       "      <th></th>\n",
       "      <th>Customer</th>\n",
       "      <th>Frequency</th>\n",
       "      <th>PurchaseLocation</th>\n",
       "      <th>...</th>\n",
       "      <th>PlaceOfResidence</th>\n",
       "      <th>Province</th>\n",
       "      <th>SelfOrOthers</th>\n",
       "    </tr>\n",
       "  </thead>\n",
       "  <tbody>\n",
       "    <tr>\n",
       "      <th>0</th>\n",
       "      <td>Si</td>\n",
       "      <td>da 1 a 2 volte l'anno</td>\n",
       "      <td>E-commerce, PopUp Store</td>\n",
       "      <td>...</td>\n",
       "      <td>Italia</td>\n",
       "      <td>Alessandria</td>\n",
       "      <td>Me, Famiglia, Amic*</td>\n",
       "    </tr>\n",
       "    <tr>\n",
       "      <th>1</th>\n",
       "      <td>No</td>\n",
       "      <td>NaN</td>\n",
       "      <td>NaN</td>\n",
       "      <td>...</td>\n",
       "      <td>Italia</td>\n",
       "      <td>Alessandria</td>\n",
       "      <td>NaN</td>\n",
       "    </tr>\n",
       "    <tr>\n",
       "      <th>2</th>\n",
       "      <td>No</td>\n",
       "      <td>NaN</td>\n",
       "      <td>NaN</td>\n",
       "      <td>...</td>\n",
       "      <td>Italia</td>\n",
       "      <td>Alessandria</td>\n",
       "      <td>NaN</td>\n",
       "    </tr>\n",
       "    <tr>\n",
       "      <th>3</th>\n",
       "      <td>Si</td>\n",
       "      <td>da 1 a 2 volte l'anno</td>\n",
       "      <td>ClioMakeUp Experience Store</td>\n",
       "      <td>...</td>\n",
       "      <td>Italia</td>\n",
       "      <td>Alessandria</td>\n",
       "      <td>Me</td>\n",
       "    </tr>\n",
       "    <tr>\n",
       "      <th>4</th>\n",
       "      <td>Si</td>\n",
       "      <td>da 5 a 6 volte l'anno</td>\n",
       "      <td>E-commerce</td>\n",
       "      <td>...</td>\n",
       "      <td>Italia</td>\n",
       "      <td>Ancona</td>\n",
       "      <td>Me</td>\n",
       "    </tr>\n",
       "    <tr>\n",
       "      <th>...</th>\n",
       "      <td>...</td>\n",
       "      <td>...</td>\n",
       "      <td>...</td>\n",
       "      <td>...</td>\n",
       "      <td>...</td>\n",
       "      <td>...</td>\n",
       "      <td>...</td>\n",
       "    </tr>\n",
       "    <tr>\n",
       "      <th>324</th>\n",
       "      <td>No</td>\n",
       "      <td>NaN</td>\n",
       "      <td>NaN</td>\n",
       "      <td>...</td>\n",
       "      <td>Italia</td>\n",
       "      <td>VE</td>\n",
       "      <td>NaN</td>\n",
       "    </tr>\n",
       "    <tr>\n",
       "      <th>325</th>\n",
       "      <td>Si</td>\n",
       "      <td>da 1 a 2 volte l'anno</td>\n",
       "      <td>E-commerce</td>\n",
       "      <td>...</td>\n",
       "      <td>Italia</td>\n",
       "      <td>Tv</td>\n",
       "      <td>Me</td>\n",
       "    </tr>\n",
       "    <tr>\n",
       "      <th>326</th>\n",
       "      <td>No</td>\n",
       "      <td>NaN</td>\n",
       "      <td>NaN</td>\n",
       "      <td>...</td>\n",
       "      <td>Italia</td>\n",
       "      <td>Vicenza</td>\n",
       "      <td>NaN</td>\n",
       "    </tr>\n",
       "    <tr>\n",
       "      <th>327</th>\n",
       "      <td>No</td>\n",
       "      <td>NaN</td>\n",
       "      <td>NaN</td>\n",
       "      <td>...</td>\n",
       "      <td>Italia</td>\n",
       "      <td>Rovigo</td>\n",
       "      <td>NaN</td>\n",
       "    </tr>\n",
       "    <tr>\n",
       "      <th>328</th>\n",
       "      <td>No</td>\n",
       "      <td>NaN</td>\n",
       "      <td>NaN</td>\n",
       "      <td>...</td>\n",
       "      <td>Italia</td>\n",
       "      <td>Treviso</td>\n",
       "      <td>NaN</td>\n",
       "    </tr>\n",
       "  </tbody>\n",
       "</table>\n",
       "<p>329 rows × 14 columns</p>\n",
       "</div>"
      ],
      "text/plain": [
       "    Customer              Frequency             PurchaseLocation  ...  \\\n",
       "0         Si  da 1 a 2 volte l'anno      E-commerce, PopUp Store  ...   \n",
       "1         No                    NaN                          NaN  ...   \n",
       "2         No                    NaN                          NaN  ...   \n",
       "3         Si  da 1 a 2 volte l'anno  ClioMakeUp Experience Store  ...   \n",
       "4         Si  da 5 a 6 volte l'anno                   E-commerce  ...   \n",
       "..       ...                    ...                          ...  ...   \n",
       "324       No                    NaN                          NaN  ...   \n",
       "325       Si  da 1 a 2 volte l'anno                   E-commerce  ...   \n",
       "326       No                    NaN                          NaN  ...   \n",
       "327       No                    NaN                          NaN  ...   \n",
       "328       No                    NaN                          NaN  ...   \n",
       "\n",
       "    PlaceOfResidence      Province         SelfOrOthers  \n",
       "0             Italia   Alessandria  Me, Famiglia, Amic*  \n",
       "1             Italia   Alessandria                  NaN  \n",
       "2             Italia   Alessandria                  NaN  \n",
       "3             Italia  Alessandria                    Me  \n",
       "4             Italia        Ancona                   Me  \n",
       "..               ...           ...                  ...  \n",
       "324           Italia            VE                  NaN  \n",
       "325           Italia            Tv                   Me  \n",
       "326           Italia       Vicenza                  NaN  \n",
       "327           Italia        Rovigo                  NaN  \n",
       "328           Italia      Treviso                   NaN  \n",
       "\n",
       "[329 rows x 14 columns]"
      ]
     },
     "execution_count": 3,
     "metadata": {},
     "output_type": "execute_result"
    }
   ],
   "source": [
    "# Rename headers\n",
    "headers = ['Customer',\n",
    "           'Frequency',\n",
    "           'PurchaseLocation',\n",
    "           'BrandKnownFor',\n",
    "           'LastPurchase',\n",
    "           'AllPurchases',\n",
    "           'Satisfaction',\n",
    "           'Gender',\n",
    "           'Age',\n",
    "           'Education',\n",
    "           'Profession',\n",
    "           'PlaceOfResidence',\n",
    "           'Province',\n",
    "           'SelfOrOthers'\n",
    "]\n",
    "df.columns = headers\n",
    "df"
   ]
  },
  {
   "cell_type": "markdown",
   "metadata": {},
   "source": [
    "### Clean up column by column"
   ]
  },
  {
   "cell_type": "code",
   "execution_count": 4,
   "metadata": {},
   "outputs": [],
   "source": [
    "# Function to:\n",
    "# - set 'category' data type for the column\n",
    "# - define the complete list of categories (even those that never appear in the data) and their order\n",
    "# - rename the categories from Italian to English\n",
    "def fill_rename_categories(s, categories):\n",
    "    # Set categorical dtype\n",
    "    s = s.astype('category')\n",
    "\n",
    "    # Set categories, define unused and define order\n",
    "    s = s.cat.set_categories(list(categories.keys()), ordered=True)\n",
    "\n",
    "    # Translate to English\n",
    "    s = s.cat.rename_categories(categories)\n",
    "\n",
    "    return s\n",
    "\n",
    "# Function to check all the answers reported in the data for a column (a question) againsts a list of valid answers\n",
    "def check_spurious_values(s, value_list, multiple=False):\n",
    "    # If an entry can contain multiple values, split them\n",
    "    if multiple:\n",
    "        s = s.str.split(',').map(lambda item: [i.strip() for i in item], na_action='ignore')\n",
    "        s = s.explode(column)\n",
    "    \n",
    "    # Compare values in the column with valid values\n",
    "    vc = s.value_counts()\n",
    "    column_values = vc.index\n",
    "    valid = ['Ok' if value in value_list else 'Invalid' for value in column_values]\n",
    "\n",
    "    display(pd.DataFrame({'Occurrences': vc, 'Valid': valid}))\n",
    "    "
   ]
  },
  {
   "cell_type": "markdown",
   "metadata": {},
   "source": [
    "#### Customer"
   ]
  },
  {
   "cell_type": "code",
   "execution_count": 5,
   "metadata": {},
   "outputs": [],
   "source": [
    "column = 'Customer'\n",
    "categories = {\n",
    "    'Si': 'Yes',\n",
    "    'No': 'No',\n",
    "}\n",
    "df[column] = fill_rename_categories(df[column], categories)"
   ]
  },
  {
   "cell_type": "markdown",
   "metadata": {},
   "source": [
    "#### Frequency"
   ]
  },
  {
   "cell_type": "code",
   "execution_count": 6,
   "metadata": {},
   "outputs": [],
   "source": [
    "column = 'Frequency'\n",
    "categories = {\n",
    "    \"da 1 a 2 volte l'anno\": \"1-2 times a year\",\n",
    "    \"da 3 a 4 volte l'anno\": \"3-4 times a year\",\n",
    "    \"da 5 a 6 volte l'anno\": \"5-6 times a year\",\n",
    "    \"da 7 a 8 volte l'anno\": \"7-8 times a year\",\n",
    "    \"più di 9 volte l'anno\": \"> 9 times a year\",\n",
    "}\n",
    "df[column] = fill_rename_categories(df[column], categories)"
   ]
  },
  {
   "cell_type": "markdown",
   "metadata": {},
   "source": [
    "#### PurchaseLocation\n",
    "The question contains the 'Other' option, so we need to check and correct spurious values."
   ]
  },
  {
   "cell_type": "code",
   "execution_count": 7,
   "metadata": {},
   "outputs": [
    {
     "data": {
      "text/html": [
       "<div>\n",
       "<style scoped>\n",
       "    .dataframe tbody tr th:only-of-type {\n",
       "        vertical-align: middle;\n",
       "    }\n",
       "\n",
       "    .dataframe tbody tr th {\n",
       "        vertical-align: top;\n",
       "    }\n",
       "\n",
       "    .dataframe thead th {\n",
       "        text-align: right;\n",
       "    }\n",
       "</style>\n",
       "<table border=\"1\" class=\"dataframe\">\n",
       "  <thead>\n",
       "    <tr style=\"text-align: right;\">\n",
       "      <th></th>\n",
       "      <th>Occurrences</th>\n",
       "      <th>Valid</th>\n",
       "    </tr>\n",
       "  </thead>\n",
       "  <tbody>\n",
       "    <tr>\n",
       "      <th>E-commerce</th>\n",
       "      <td>104</td>\n",
       "      <td>Ok</td>\n",
       "    </tr>\n",
       "    <tr>\n",
       "      <th>PopUp Store</th>\n",
       "      <td>48</td>\n",
       "      <td>Ok</td>\n",
       "    </tr>\n",
       "    <tr>\n",
       "      <th>ClioMakeUp Experience Store</th>\n",
       "      <td>12</td>\n",
       "      <td>Ok</td>\n",
       "    </tr>\n",
       "    <tr>\n",
       "      <th>On-line</th>\n",
       "      <td>1</td>\n",
       "      <td>Invalid</td>\n",
       "    </tr>\n",
       "  </tbody>\n",
       "</table>\n",
       "</div>"
      ],
      "text/plain": [
       "                             Occurrences    Valid\n",
       "E-commerce                           104       Ok\n",
       "PopUp Store                           48       Ok\n",
       "ClioMakeUp Experience Store           12       Ok\n",
       "On-line                                1  Invalid"
      ]
     },
     "metadata": {},
     "output_type": "display_data"
    }
   ],
   "source": [
    "column = 'PurchaseLocation'\n",
    "categories = ['E-commerce', 'PopUp Store', 'ClioMakeUp Experience Store']\n",
    "\n",
    "# Check valid answers\n",
    "check_spurious_values(df[column], categories, multiple=True)"
   ]
  },
  {
   "cell_type": "code",
   "execution_count": 8,
   "metadata": {},
   "outputs": [
    {
     "data": {
      "text/html": [
       "<div>\n",
       "<style scoped>\n",
       "    .dataframe tbody tr th:only-of-type {\n",
       "        vertical-align: middle;\n",
       "    }\n",
       "\n",
       "    .dataframe tbody tr th {\n",
       "        vertical-align: top;\n",
       "    }\n",
       "\n",
       "    .dataframe thead th {\n",
       "        text-align: right;\n",
       "    }\n",
       "</style>\n",
       "<table border=\"1\" class=\"dataframe\">\n",
       "  <thead>\n",
       "    <tr style=\"text-align: right;\">\n",
       "      <th></th>\n",
       "      <th>Occurrences</th>\n",
       "      <th>Valid</th>\n",
       "    </tr>\n",
       "  </thead>\n",
       "  <tbody>\n",
       "    <tr>\n",
       "      <th>E-commerce</th>\n",
       "      <td>105</td>\n",
       "      <td>Ok</td>\n",
       "    </tr>\n",
       "    <tr>\n",
       "      <th>PopUp Store</th>\n",
       "      <td>48</td>\n",
       "      <td>Ok</td>\n",
       "    </tr>\n",
       "    <tr>\n",
       "      <th>ClioMakeUp Experience Store</th>\n",
       "      <td>12</td>\n",
       "      <td>Ok</td>\n",
       "    </tr>\n",
       "  </tbody>\n",
       "</table>\n",
       "</div>"
      ],
      "text/plain": [
       "                             Occurrences Valid\n",
       "E-commerce                           105    Ok\n",
       "PopUp Store                           48    Ok\n",
       "ClioMakeUp Experience Store           12    Ok"
      ]
     },
     "metadata": {},
     "output_type": "display_data"
    }
   ],
   "source": [
    "# Clean data (change spurious 'On-line' to 'E-commerce')\n",
    "df[column] = df[column].str.replace('On-line', 'E-commerce')\n",
    "check_spurious_values(df[column], categories, multiple=True)"
   ]
  },
  {
   "cell_type": "code",
   "execution_count": 9,
   "metadata": {},
   "outputs": [
    {
     "data": {
      "text/html": [
       "<div>\n",
       "<style scoped>\n",
       "    .dataframe tbody tr th:only-of-type {\n",
       "        vertical-align: middle;\n",
       "    }\n",
       "\n",
       "    .dataframe tbody tr th {\n",
       "        vertical-align: top;\n",
       "    }\n",
       "\n",
       "    .dataframe thead th {\n",
       "        text-align: right;\n",
       "    }\n",
       "</style>\n",
       "<table border=\"1\" class=\"dataframe\">\n",
       "  <thead>\n",
       "    <tr style=\"text-align: right;\">\n",
       "      <th></th>\n",
       "      <th>Customer</th>\n",
       "      <th>Frequency</th>\n",
       "      <th>PurchaseLocation</th>\n",
       "      <th>...</th>\n",
       "      <th>Province</th>\n",
       "      <th>SelfOrOthers</th>\n",
       "      <th>PurchaseChannel</th>\n",
       "    </tr>\n",
       "  </thead>\n",
       "  <tbody>\n",
       "    <tr>\n",
       "      <th>0</th>\n",
       "      <td>Yes</td>\n",
       "      <td>1-2 times a year</td>\n",
       "      <td>E-commerce, PopUp Store</td>\n",
       "      <td>...</td>\n",
       "      <td>Alessandria</td>\n",
       "      <td>Me, Famiglia, Amic*</td>\n",
       "      <td>[Offline store, E-commerce]</td>\n",
       "    </tr>\n",
       "    <tr>\n",
       "      <th>1</th>\n",
       "      <td>No</td>\n",
       "      <td>NaN</td>\n",
       "      <td>NaN</td>\n",
       "      <td>...</td>\n",
       "      <td>Alessandria</td>\n",
       "      <td>NaN</td>\n",
       "      <td>[nan]</td>\n",
       "    </tr>\n",
       "    <tr>\n",
       "      <th>2</th>\n",
       "      <td>No</td>\n",
       "      <td>NaN</td>\n",
       "      <td>NaN</td>\n",
       "      <td>...</td>\n",
       "      <td>Alessandria</td>\n",
       "      <td>NaN</td>\n",
       "      <td>[nan]</td>\n",
       "    </tr>\n",
       "    <tr>\n",
       "      <th>3</th>\n",
       "      <td>Yes</td>\n",
       "      <td>1-2 times a year</td>\n",
       "      <td>ClioMakeUp Experience Store</td>\n",
       "      <td>...</td>\n",
       "      <td>Alessandria</td>\n",
       "      <td>Me</td>\n",
       "      <td>[Offline store]</td>\n",
       "    </tr>\n",
       "    <tr>\n",
       "      <th>4</th>\n",
       "      <td>Yes</td>\n",
       "      <td>5-6 times a year</td>\n",
       "      <td>E-commerce</td>\n",
       "      <td>...</td>\n",
       "      <td>Ancona</td>\n",
       "      <td>Me</td>\n",
       "      <td>[E-commerce]</td>\n",
       "    </tr>\n",
       "    <tr>\n",
       "      <th>...</th>\n",
       "      <td>...</td>\n",
       "      <td>...</td>\n",
       "      <td>...</td>\n",
       "      <td>...</td>\n",
       "      <td>...</td>\n",
       "      <td>...</td>\n",
       "      <td>...</td>\n",
       "    </tr>\n",
       "    <tr>\n",
       "      <th>324</th>\n",
       "      <td>No</td>\n",
       "      <td>NaN</td>\n",
       "      <td>NaN</td>\n",
       "      <td>...</td>\n",
       "      <td>VE</td>\n",
       "      <td>NaN</td>\n",
       "      <td>[nan]</td>\n",
       "    </tr>\n",
       "    <tr>\n",
       "      <th>325</th>\n",
       "      <td>Yes</td>\n",
       "      <td>1-2 times a year</td>\n",
       "      <td>E-commerce</td>\n",
       "      <td>...</td>\n",
       "      <td>Tv</td>\n",
       "      <td>Me</td>\n",
       "      <td>[E-commerce]</td>\n",
       "    </tr>\n",
       "    <tr>\n",
       "      <th>326</th>\n",
       "      <td>No</td>\n",
       "      <td>NaN</td>\n",
       "      <td>NaN</td>\n",
       "      <td>...</td>\n",
       "      <td>Vicenza</td>\n",
       "      <td>NaN</td>\n",
       "      <td>[nan]</td>\n",
       "    </tr>\n",
       "    <tr>\n",
       "      <th>327</th>\n",
       "      <td>No</td>\n",
       "      <td>NaN</td>\n",
       "      <td>NaN</td>\n",
       "      <td>...</td>\n",
       "      <td>Rovigo</td>\n",
       "      <td>NaN</td>\n",
       "      <td>[nan]</td>\n",
       "    </tr>\n",
       "    <tr>\n",
       "      <th>328</th>\n",
       "      <td>No</td>\n",
       "      <td>NaN</td>\n",
       "      <td>NaN</td>\n",
       "      <td>...</td>\n",
       "      <td>Treviso</td>\n",
       "      <td>NaN</td>\n",
       "      <td>[nan]</td>\n",
       "    </tr>\n",
       "  </tbody>\n",
       "</table>\n",
       "<p>329 rows × 15 columns</p>\n",
       "</div>"
      ],
      "text/plain": [
       "    Customer         Frequency             PurchaseLocation  ...  \\\n",
       "0        Yes  1-2 times a year      E-commerce, PopUp Store  ...   \n",
       "1         No               NaN                          NaN  ...   \n",
       "2         No               NaN                          NaN  ...   \n",
       "3        Yes  1-2 times a year  ClioMakeUp Experience Store  ...   \n",
       "4        Yes  5-6 times a year                   E-commerce  ...   \n",
       "..       ...               ...                          ...  ...   \n",
       "324       No               NaN                          NaN  ...   \n",
       "325      Yes  1-2 times a year                   E-commerce  ...   \n",
       "326       No               NaN                          NaN  ...   \n",
       "327       No               NaN                          NaN  ...   \n",
       "328       No               NaN                          NaN  ...   \n",
       "\n",
       "         Province         SelfOrOthers              PurchaseChannel  \n",
       "0     Alessandria  Me, Famiglia, Amic*  [Offline store, E-commerce]  \n",
       "1     Alessandria                  NaN                        [nan]  \n",
       "2     Alessandria                  NaN                        [nan]  \n",
       "3    Alessandria                    Me              [Offline store]  \n",
       "4          Ancona                   Me                 [E-commerce]  \n",
       "..            ...                  ...                          ...  \n",
       "324            VE                  NaN                        [nan]  \n",
       "325            Tv                   Me                 [E-commerce]  \n",
       "326       Vicenza                  NaN                        [nan]  \n",
       "327        Rovigo                  NaN                        [nan]  \n",
       "328      Treviso                   NaN                        [nan]  \n",
       "\n",
       "[329 rows x 15 columns]"
      ]
     },
     "execution_count": 9,
     "metadata": {},
     "output_type": "execute_result"
    }
   ],
   "source": [
    "# Create new column to group online and offline channels\n",
    "s = df[column].str.split(',').map(lambda item: [i.strip() for i in item], na_action='ignore')\n",
    "s = s.explode()\n",
    "s = s.str.replace('PopUp Store', 'Offline store')\n",
    "s = s.str.replace('ClioMakeUp Experience Store', 'Offline store')\n",
    "df['PurchaseChannel'] = s.groupby(s.index).agg(list).map(lambda x: list(set(x)))\n",
    "df"
   ]
  },
  {
   "cell_type": "markdown",
   "metadata": {},
   "source": [
    "#### BrandKnownFor"
   ]
  },
  {
   "cell_type": "code",
   "execution_count": 10,
   "metadata": {},
   "outputs": [
    {
     "data": {
      "text/html": [
       "<div>\n",
       "<style scoped>\n",
       "    .dataframe tbody tr th:only-of-type {\n",
       "        vertical-align: middle;\n",
       "    }\n",
       "\n",
       "    .dataframe tbody tr th {\n",
       "        vertical-align: top;\n",
       "    }\n",
       "\n",
       "    .dataframe thead th {\n",
       "        text-align: right;\n",
       "    }\n",
       "</style>\n",
       "<table border=\"1\" class=\"dataframe\">\n",
       "  <thead>\n",
       "    <tr style=\"text-align: right;\">\n",
       "      <th></th>\n",
       "      <th>Occurrences</th>\n",
       "      <th>Valid</th>\n",
       "    </tr>\n",
       "  </thead>\n",
       "  <tbody>\n",
       "    <tr>\n",
       "      <th>5 anni (dal lancio dei primi rossetti)</th>\n",
       "      <td>96</td>\n",
       "      <td>Ok</td>\n",
       "    </tr>\n",
       "    <tr>\n",
       "      <th>2 anni</th>\n",
       "      <td>12</td>\n",
       "      <td>Ok</td>\n",
       "    </tr>\n",
       "    <tr>\n",
       "      <th>4 anni</th>\n",
       "      <td>9</td>\n",
       "      <td>Ok</td>\n",
       "    </tr>\n",
       "    <tr>\n",
       "      <th>3 anni</th>\n",
       "      <td>8</td>\n",
       "      <td>Ok</td>\n",
       "    </tr>\n",
       "    <tr>\n",
       "      <th>1 anno</th>\n",
       "      <td>4</td>\n",
       "      <td>Ok</td>\n",
       "    </tr>\n",
       "    <tr>\n",
       "      <th>Meno di un anno</th>\n",
       "      <td>3</td>\n",
       "      <td>Ok</td>\n",
       "    </tr>\n",
       "    <tr>\n",
       "      <th>Da molto più di 5 anni</th>\n",
       "      <td>1</td>\n",
       "      <td>Invalid</td>\n",
       "    </tr>\n",
       "  </tbody>\n",
       "</table>\n",
       "</div>"
      ],
      "text/plain": [
       "                                        Occurrences    Valid\n",
       "5 anni (dal lancio dei primi rossetti)           96       Ok\n",
       "2 anni                                           12       Ok\n",
       "4 anni                                            9       Ok\n",
       "3 anni                                            8       Ok\n",
       "1 anno                                            4       Ok\n",
       "Meno di un anno                                   3       Ok\n",
       "Da molto più di 5 anni                            1  Invalid"
      ]
     },
     "metadata": {},
     "output_type": "display_data"
    }
   ],
   "source": [
    "column = 'BrandKnownFor'\n",
    "categories = {\n",
    "    'Meno di un anno':                          'less than 1 year',\n",
    "    '1 anno':                                   '1 year',\n",
    "    '2 anni':                                   '2 years',\n",
    "    '3 anni':                                   '3 years',\n",
    "    '4 anni':                                   '4 years',\n",
    "    '5 anni (dal lancio dei primi rossetti)':   '5 years (first lipstick launch)',\n",
    "}\n",
    "\n",
    "# Check valid answers\n",
    "check_spurious_values(df[column], categories)"
   ]
  },
  {
   "cell_type": "code",
   "execution_count": 11,
   "metadata": {},
   "outputs": [
    {
     "data": {
      "text/html": [
       "<div>\n",
       "<style scoped>\n",
       "    .dataframe tbody tr th:only-of-type {\n",
       "        vertical-align: middle;\n",
       "    }\n",
       "\n",
       "    .dataframe tbody tr th {\n",
       "        vertical-align: top;\n",
       "    }\n",
       "\n",
       "    .dataframe thead th {\n",
       "        text-align: right;\n",
       "    }\n",
       "</style>\n",
       "<table border=\"1\" class=\"dataframe\">\n",
       "  <thead>\n",
       "    <tr style=\"text-align: right;\">\n",
       "      <th></th>\n",
       "      <th>Occurrences</th>\n",
       "      <th>Valid</th>\n",
       "    </tr>\n",
       "  </thead>\n",
       "  <tbody>\n",
       "    <tr>\n",
       "      <th>5 anni (dal lancio dei primi rossetti)</th>\n",
       "      <td>97</td>\n",
       "      <td>Ok</td>\n",
       "    </tr>\n",
       "    <tr>\n",
       "      <th>2 anni</th>\n",
       "      <td>12</td>\n",
       "      <td>Ok</td>\n",
       "    </tr>\n",
       "    <tr>\n",
       "      <th>4 anni</th>\n",
       "      <td>9</td>\n",
       "      <td>Ok</td>\n",
       "    </tr>\n",
       "    <tr>\n",
       "      <th>3 anni</th>\n",
       "      <td>8</td>\n",
       "      <td>Ok</td>\n",
       "    </tr>\n",
       "    <tr>\n",
       "      <th>1 anno</th>\n",
       "      <td>4</td>\n",
       "      <td>Ok</td>\n",
       "    </tr>\n",
       "    <tr>\n",
       "      <th>Meno di un anno</th>\n",
       "      <td>3</td>\n",
       "      <td>Ok</td>\n",
       "    </tr>\n",
       "  </tbody>\n",
       "</table>\n",
       "</div>"
      ],
      "text/plain": [
       "                                        Occurrences Valid\n",
       "5 anni (dal lancio dei primi rossetti)           97    Ok\n",
       "2 anni                                           12    Ok\n",
       "4 anni                                            9    Ok\n",
       "3 anni                                            8    Ok\n",
       "1 anno                                            4    Ok\n",
       "Meno di un anno                                   3    Ok"
      ]
     },
     "metadata": {},
     "output_type": "display_data"
    }
   ],
   "source": [
    "# Clean data\n",
    "df[column] = df[column].str.replace('Da molto più di 5 anni', '5 anni (dal lancio dei primi rossetti)')\n",
    "check_spurious_values(df[column], categories)"
   ]
  },
  {
   "cell_type": "code",
   "execution_count": 12,
   "metadata": {},
   "outputs": [],
   "source": [
    "# Set categories\n",
    "df[column] = fill_rename_categories(df[column], categories)"
   ]
  },
  {
   "cell_type": "markdown",
   "metadata": {},
   "source": [
    "#### LastPurchase\n",
    "This data is used to derive the average receipt amount for each customer"
   ]
  },
  {
   "cell_type": "code",
   "execution_count": 13,
   "metadata": {},
   "outputs": [
    {
     "data": {
      "text/html": [
       "<div>\n",
       "<style scoped>\n",
       "    .dataframe tbody tr th:only-of-type {\n",
       "        vertical-align: middle;\n",
       "    }\n",
       "\n",
       "    .dataframe tbody tr th {\n",
       "        vertical-align: top;\n",
       "    }\n",
       "\n",
       "    .dataframe thead th {\n",
       "        text-align: right;\n",
       "    }\n",
       "</style>\n",
       "<table border=\"1\" class=\"dataframe\">\n",
       "  <thead>\n",
       "    <tr style=\"text-align: right;\">\n",
       "      <th></th>\n",
       "      <th>Customer</th>\n",
       "      <th>Frequency</th>\n",
       "      <th>PurchaseLocation</th>\n",
       "      <th>...</th>\n",
       "      <th>SelfOrOthers</th>\n",
       "      <th>PurchaseChannel</th>\n",
       "      <th>ReceiptAmount</th>\n",
       "    </tr>\n",
       "  </thead>\n",
       "  <tbody>\n",
       "    <tr>\n",
       "      <th>0</th>\n",
       "      <td>Yes</td>\n",
       "      <td>1-2 times a year</td>\n",
       "      <td>E-commerce, PopUp Store</td>\n",
       "      <td>...</td>\n",
       "      <td>Me, Famiglia, Amic*</td>\n",
       "      <td>[Offline store, E-commerce]</td>\n",
       "      <td>13.5</td>\n",
       "    </tr>\n",
       "    <tr>\n",
       "      <th>1</th>\n",
       "      <td>No</td>\n",
       "      <td>NaN</td>\n",
       "      <td>NaN</td>\n",
       "      <td>...</td>\n",
       "      <td>NaN</td>\n",
       "      <td>[nan]</td>\n",
       "      <td>NaN</td>\n",
       "    </tr>\n",
       "    <tr>\n",
       "      <th>2</th>\n",
       "      <td>No</td>\n",
       "      <td>NaN</td>\n",
       "      <td>NaN</td>\n",
       "      <td>...</td>\n",
       "      <td>NaN</td>\n",
       "      <td>[nan]</td>\n",
       "      <td>NaN</td>\n",
       "    </tr>\n",
       "    <tr>\n",
       "      <th>3</th>\n",
       "      <td>Yes</td>\n",
       "      <td>1-2 times a year</td>\n",
       "      <td>ClioMakeUp Experience Store</td>\n",
       "      <td>...</td>\n",
       "      <td>Me</td>\n",
       "      <td>[Offline store]</td>\n",
       "      <td>13.5</td>\n",
       "    </tr>\n",
       "    <tr>\n",
       "      <th>4</th>\n",
       "      <td>Yes</td>\n",
       "      <td>5-6 times a year</td>\n",
       "      <td>E-commerce</td>\n",
       "      <td>...</td>\n",
       "      <td>Me</td>\n",
       "      <td>[E-commerce]</td>\n",
       "      <td>45.5</td>\n",
       "    </tr>\n",
       "    <tr>\n",
       "      <th>...</th>\n",
       "      <td>...</td>\n",
       "      <td>...</td>\n",
       "      <td>...</td>\n",
       "      <td>...</td>\n",
       "      <td>...</td>\n",
       "      <td>...</td>\n",
       "      <td>...</td>\n",
       "    </tr>\n",
       "    <tr>\n",
       "      <th>324</th>\n",
       "      <td>No</td>\n",
       "      <td>NaN</td>\n",
       "      <td>NaN</td>\n",
       "      <td>...</td>\n",
       "      <td>NaN</td>\n",
       "      <td>[nan]</td>\n",
       "      <td>NaN</td>\n",
       "    </tr>\n",
       "    <tr>\n",
       "      <th>325</th>\n",
       "      <td>Yes</td>\n",
       "      <td>1-2 times a year</td>\n",
       "      <td>E-commerce</td>\n",
       "      <td>...</td>\n",
       "      <td>Me</td>\n",
       "      <td>[E-commerce]</td>\n",
       "      <td>13.5</td>\n",
       "    </tr>\n",
       "    <tr>\n",
       "      <th>326</th>\n",
       "      <td>No</td>\n",
       "      <td>NaN</td>\n",
       "      <td>NaN</td>\n",
       "      <td>...</td>\n",
       "      <td>NaN</td>\n",
       "      <td>[nan]</td>\n",
       "      <td>NaN</td>\n",
       "    </tr>\n",
       "    <tr>\n",
       "      <th>327</th>\n",
       "      <td>No</td>\n",
       "      <td>NaN</td>\n",
       "      <td>NaN</td>\n",
       "      <td>...</td>\n",
       "      <td>NaN</td>\n",
       "      <td>[nan]</td>\n",
       "      <td>NaN</td>\n",
       "    </tr>\n",
       "    <tr>\n",
       "      <th>328</th>\n",
       "      <td>No</td>\n",
       "      <td>NaN</td>\n",
       "      <td>NaN</td>\n",
       "      <td>...</td>\n",
       "      <td>NaN</td>\n",
       "      <td>[nan]</td>\n",
       "      <td>NaN</td>\n",
       "    </tr>\n",
       "  </tbody>\n",
       "</table>\n",
       "<p>329 rows × 16 columns</p>\n",
       "</div>"
      ],
      "text/plain": [
       "    Customer         Frequency             PurchaseLocation  ...  \\\n",
       "0        Yes  1-2 times a year      E-commerce, PopUp Store  ...   \n",
       "1         No               NaN                          NaN  ...   \n",
       "2         No               NaN                          NaN  ...   \n",
       "3        Yes  1-2 times a year  ClioMakeUp Experience Store  ...   \n",
       "4        Yes  5-6 times a year                   E-commerce  ...   \n",
       "..       ...               ...                          ...  ...   \n",
       "324       No               NaN                          NaN  ...   \n",
       "325      Yes  1-2 times a year                   E-commerce  ...   \n",
       "326       No               NaN                          NaN  ...   \n",
       "327       No               NaN                          NaN  ...   \n",
       "328       No               NaN                          NaN  ...   \n",
       "\n",
       "            SelfOrOthers              PurchaseChannel ReceiptAmount  \n",
       "0    Me, Famiglia, Amic*  [Offline store, E-commerce]          13.5  \n",
       "1                    NaN                        [nan]           NaN  \n",
       "2                    NaN                        [nan]           NaN  \n",
       "3                     Me              [Offline store]          13.5  \n",
       "4                     Me                 [E-commerce]          45.5  \n",
       "..                   ...                          ...           ...  \n",
       "324                  NaN                        [nan]           NaN  \n",
       "325                   Me                 [E-commerce]          13.5  \n",
       "326                  NaN                        [nan]           NaN  \n",
       "327                  NaN                        [nan]           NaN  \n",
       "328                  NaN                        [nan]           NaN  \n",
       "\n",
       "[329 rows x 16 columns]"
      ]
     },
     "execution_count": 13,
     "metadata": {},
     "output_type": "execute_result"
    }
   ],
   "source": [
    "column = 'LastPurchase'\n",
    "# Define price dictionary\n",
    "prices_dict = {\n",
    "    'WonderMousse (Mousse viso detergente e struccante)':   15.50,\n",
    "    'SuperStrucco (Balsamo detergente e struccante)':       24.50,\n",
    "    'Kit doppia detersione (WonderMousse + SuperStrucco)':  35.00,\n",
    "    'Paciocchi (Maschera occhi)':                           6.50,\n",
    "    'Kit Paciocchi 5+1':                                    32.50,\n",
    "    'Fondotinta OhMyLove':                                  28.50,\n",
    "    'Correttore OhMyLove':                                  17.50,\n",
    "    'Blush CuteLove':                                       15.50,\n",
    "    'Illuminante CosmicLove':                               16.50,\n",
    "    'Matite Sopracciglia AllDayLov Brow':                   12.50,\n",
    "    'Ombretti liquidi SweetieLove':                         14.50,\n",
    "    'Ombretti cremosi SweetieLove':                         14.50,\n",
    "    'Mascara DarkLove':                                     14.50,\n",
    "    'Eyeliner DeepLove':                                    14.50,\n",
    "    'Matita occhi AllDayLove':                              10.50,\n",
    "    'Palette BeautyLove':                                   57.50,\n",
    "    'Palette FirstLove':                                    32.50,\n",
    "    'Palette MyFirstLove ( 4 ombretti)':                    5.50,\n",
    "    'Ombretti ClioMakeUp Eyeshadow':                        6.50,\n",
    "    'Ultrabalm Passion (Limited Edition)':                  15.50,\n",
    "    'Ultrabalm CoccoLove':                                  15.50,\n",
    "    'Lip balm colorati CoccoLove':                          12.50,\n",
    "    'Rossetti liquidi LiquidLove':                          13.50,\n",
    "    'Rossetti cremosi CreamyLove':                          12.50,\n",
    "    'Pennelli':                                             22.00,\n",
    "}\n",
    "# Create new column with receipt amount\n",
    "new_column = 'ReceiptAmount'\n",
    "df[new_column] = df[column].map(lambda item: sum([prices_dict[i.strip()] for i in item.split(',') if i.strip() in prices_dict]), na_action='ignore')\n",
    "df"
   ]
  },
  {
   "cell_type": "code",
   "execution_count": 14,
   "metadata": {},
   "outputs": [
    {
     "data": {
      "text/html": [
       "<div>\n",
       "<style scoped>\n",
       "    .dataframe tbody tr th:only-of-type {\n",
       "        vertical-align: middle;\n",
       "    }\n",
       "\n",
       "    .dataframe tbody tr th {\n",
       "        vertical-align: top;\n",
       "    }\n",
       "\n",
       "    .dataframe thead th {\n",
       "        text-align: right;\n",
       "    }\n",
       "</style>\n",
       "<table border=\"1\" class=\"dataframe\">\n",
       "  <thead>\n",
       "    <tr style=\"text-align: right;\">\n",
       "      <th></th>\n",
       "      <th>Customer</th>\n",
       "      <th>Frequency</th>\n",
       "      <th>PurchaseLocation</th>\n",
       "      <th>...</th>\n",
       "      <th>PurchaseChannel</th>\n",
       "      <th>ReceiptAmount</th>\n",
       "      <th>ReceiptAmountGroup</th>\n",
       "    </tr>\n",
       "  </thead>\n",
       "  <tbody>\n",
       "    <tr>\n",
       "      <th>0</th>\n",
       "      <td>Yes</td>\n",
       "      <td>1-2 times a year</td>\n",
       "      <td>E-commerce, PopUp Store</td>\n",
       "      <td>...</td>\n",
       "      <td>[Offline store, E-commerce]</td>\n",
       "      <td>13.5</td>\n",
       "      <td>&lt;20€</td>\n",
       "    </tr>\n",
       "    <tr>\n",
       "      <th>1</th>\n",
       "      <td>No</td>\n",
       "      <td>NaN</td>\n",
       "      <td>NaN</td>\n",
       "      <td>...</td>\n",
       "      <td>[nan]</td>\n",
       "      <td>NaN</td>\n",
       "      <td>NaN</td>\n",
       "    </tr>\n",
       "    <tr>\n",
       "      <th>2</th>\n",
       "      <td>No</td>\n",
       "      <td>NaN</td>\n",
       "      <td>NaN</td>\n",
       "      <td>...</td>\n",
       "      <td>[nan]</td>\n",
       "      <td>NaN</td>\n",
       "      <td>NaN</td>\n",
       "    </tr>\n",
       "    <tr>\n",
       "      <th>3</th>\n",
       "      <td>Yes</td>\n",
       "      <td>1-2 times a year</td>\n",
       "      <td>ClioMakeUp Experience Store</td>\n",
       "      <td>...</td>\n",
       "      <td>[Offline store]</td>\n",
       "      <td>13.5</td>\n",
       "      <td>&lt;20€</td>\n",
       "    </tr>\n",
       "    <tr>\n",
       "      <th>4</th>\n",
       "      <td>Yes</td>\n",
       "      <td>5-6 times a year</td>\n",
       "      <td>E-commerce</td>\n",
       "      <td>...</td>\n",
       "      <td>[E-commerce]</td>\n",
       "      <td>45.5</td>\n",
       "      <td>40-60€</td>\n",
       "    </tr>\n",
       "    <tr>\n",
       "      <th>...</th>\n",
       "      <td>...</td>\n",
       "      <td>...</td>\n",
       "      <td>...</td>\n",
       "      <td>...</td>\n",
       "      <td>...</td>\n",
       "      <td>...</td>\n",
       "      <td>...</td>\n",
       "    </tr>\n",
       "    <tr>\n",
       "      <th>324</th>\n",
       "      <td>No</td>\n",
       "      <td>NaN</td>\n",
       "      <td>NaN</td>\n",
       "      <td>...</td>\n",
       "      <td>[nan]</td>\n",
       "      <td>NaN</td>\n",
       "      <td>NaN</td>\n",
       "    </tr>\n",
       "    <tr>\n",
       "      <th>325</th>\n",
       "      <td>Yes</td>\n",
       "      <td>1-2 times a year</td>\n",
       "      <td>E-commerce</td>\n",
       "      <td>...</td>\n",
       "      <td>[E-commerce]</td>\n",
       "      <td>13.5</td>\n",
       "      <td>&lt;20€</td>\n",
       "    </tr>\n",
       "    <tr>\n",
       "      <th>326</th>\n",
       "      <td>No</td>\n",
       "      <td>NaN</td>\n",
       "      <td>NaN</td>\n",
       "      <td>...</td>\n",
       "      <td>[nan]</td>\n",
       "      <td>NaN</td>\n",
       "      <td>NaN</td>\n",
       "    </tr>\n",
       "    <tr>\n",
       "      <th>327</th>\n",
       "      <td>No</td>\n",
       "      <td>NaN</td>\n",
       "      <td>NaN</td>\n",
       "      <td>...</td>\n",
       "      <td>[nan]</td>\n",
       "      <td>NaN</td>\n",
       "      <td>NaN</td>\n",
       "    </tr>\n",
       "    <tr>\n",
       "      <th>328</th>\n",
       "      <td>No</td>\n",
       "      <td>NaN</td>\n",
       "      <td>NaN</td>\n",
       "      <td>...</td>\n",
       "      <td>[nan]</td>\n",
       "      <td>NaN</td>\n",
       "      <td>NaN</td>\n",
       "    </tr>\n",
       "  </tbody>\n",
       "</table>\n",
       "<p>329 rows × 17 columns</p>\n",
       "</div>"
      ],
      "text/plain": [
       "    Customer         Frequency             PurchaseLocation  ...  \\\n",
       "0        Yes  1-2 times a year      E-commerce, PopUp Store  ...   \n",
       "1         No               NaN                          NaN  ...   \n",
       "2         No               NaN                          NaN  ...   \n",
       "3        Yes  1-2 times a year  ClioMakeUp Experience Store  ...   \n",
       "4        Yes  5-6 times a year                   E-commerce  ...   \n",
       "..       ...               ...                          ...  ...   \n",
       "324       No               NaN                          NaN  ...   \n",
       "325      Yes  1-2 times a year                   E-commerce  ...   \n",
       "326       No               NaN                          NaN  ...   \n",
       "327       No               NaN                          NaN  ...   \n",
       "328       No               NaN                          NaN  ...   \n",
       "\n",
       "                 PurchaseChannel ReceiptAmount ReceiptAmountGroup  \n",
       "0    [Offline store, E-commerce]          13.5               <20€  \n",
       "1                          [nan]           NaN                NaN  \n",
       "2                          [nan]           NaN                NaN  \n",
       "3                [Offline store]          13.5               <20€  \n",
       "4                   [E-commerce]          45.5             40-60€  \n",
       "..                           ...           ...                ...  \n",
       "324                        [nan]           NaN                NaN  \n",
       "325                 [E-commerce]          13.5               <20€  \n",
       "326                        [nan]           NaN                NaN  \n",
       "327                        [nan]           NaN                NaN  \n",
       "328                        [nan]           NaN                NaN  \n",
       "\n",
       "[329 rows x 17 columns]"
      ]
     },
     "execution_count": 14,
     "metadata": {},
     "output_type": "execute_result"
    }
   ],
   "source": [
    "# Create receipt groups\n",
    "df['ReceiptAmountGroup'] = pd.cut(df['ReceiptAmount'], [0, 20, 40, 60, 80, 1000], labels=['<20€', '20-40€', '40-60€', '60-80€', '>80€'])\n",
    "df['ReceiptAmountGroup'].value_counts().sort_index()\n",
    "df"
   ]
  },
  {
   "cell_type": "markdown",
   "metadata": {},
   "source": [
    "#### AllPurchases"
   ]
  },
  {
   "cell_type": "code",
   "execution_count": 15,
   "metadata": {},
   "outputs": [
    {
     "data": {
      "text/html": [
       "<div>\n",
       "<style scoped>\n",
       "    .dataframe tbody tr th:only-of-type {\n",
       "        vertical-align: middle;\n",
       "    }\n",
       "\n",
       "    .dataframe tbody tr th {\n",
       "        vertical-align: top;\n",
       "    }\n",
       "\n",
       "    .dataframe thead th {\n",
       "        text-align: right;\n",
       "    }\n",
       "</style>\n",
       "<table border=\"1\" class=\"dataframe\">\n",
       "  <thead>\n",
       "    <tr style=\"text-align: right;\">\n",
       "      <th></th>\n",
       "      <th>Occurrences</th>\n",
       "      <th>Valid</th>\n",
       "    </tr>\n",
       "  </thead>\n",
       "  <tbody>\n",
       "    <tr>\n",
       "      <th>Rossetti liquidi LiquidLove</th>\n",
       "      <td>76</td>\n",
       "      <td>Ok</td>\n",
       "    </tr>\n",
       "    <tr>\n",
       "      <th>Rossetti cremosi CreamyLove</th>\n",
       "      <td>67</td>\n",
       "      <td>Ok</td>\n",
       "    </tr>\n",
       "    <tr>\n",
       "      <th>Mascara DarkLove</th>\n",
       "      <td>62</td>\n",
       "      <td>Ok</td>\n",
       "    </tr>\n",
       "    <tr>\n",
       "      <th>Correttore OhMyLove</th>\n",
       "      <td>48</td>\n",
       "      <td>Ok</td>\n",
       "    </tr>\n",
       "    <tr>\n",
       "      <th>Ombretti cremosi SweetieLove</th>\n",
       "      <td>42</td>\n",
       "      <td>Ok</td>\n",
       "    </tr>\n",
       "    <tr>\n",
       "      <th>Fondotinta OhMyLove</th>\n",
       "      <td>31</td>\n",
       "      <td>Ok</td>\n",
       "    </tr>\n",
       "    <tr>\n",
       "      <th>Lip balm colorati CoccoLove</th>\n",
       "      <td>31</td>\n",
       "      <td>Ok</td>\n",
       "    </tr>\n",
       "    <tr>\n",
       "      <th>Eyeliner DeepLove</th>\n",
       "      <td>29</td>\n",
       "      <td>Ok</td>\n",
       "    </tr>\n",
       "    <tr>\n",
       "      <th>Matita occhi AllDayLove</th>\n",
       "      <td>29</td>\n",
       "      <td>Ok</td>\n",
       "    </tr>\n",
       "    <tr>\n",
       "      <th>Blush CuteLove</th>\n",
       "      <td>22</td>\n",
       "      <td>Ok</td>\n",
       "    </tr>\n",
       "    <tr>\n",
       "      <th>Ultrabalm CoccoLove</th>\n",
       "      <td>21</td>\n",
       "      <td>Ok</td>\n",
       "    </tr>\n",
       "    <tr>\n",
       "      <th>Ombretti ClioMakeUp Eyeshadow</th>\n",
       "      <td>19</td>\n",
       "      <td>Ok</td>\n",
       "    </tr>\n",
       "    <tr>\n",
       "      <th>Ombretti liquidi SweetieLove</th>\n",
       "      <td>19</td>\n",
       "      <td>Ok</td>\n",
       "    </tr>\n",
       "    <tr>\n",
       "      <th>Palette FirstLove</th>\n",
       "      <td>19</td>\n",
       "      <td>Ok</td>\n",
       "    </tr>\n",
       "    <tr>\n",
       "      <th>Palette MyFirstLove ( 4 ombretti)</th>\n",
       "      <td>16</td>\n",
       "      <td>Ok</td>\n",
       "    </tr>\n",
       "    <tr>\n",
       "      <th>Illuminante CosmicLove</th>\n",
       "      <td>11</td>\n",
       "      <td>Ok</td>\n",
       "    </tr>\n",
       "    <tr>\n",
       "      <th>Paciocchi (Maschera occhi)</th>\n",
       "      <td>11</td>\n",
       "      <td>Ok</td>\n",
       "    </tr>\n",
       "    <tr>\n",
       "      <th>Matite Sopracciglia AllDayLov Brow</th>\n",
       "      <td>11</td>\n",
       "      <td>Ok</td>\n",
       "    </tr>\n",
       "    <tr>\n",
       "      <th>Kit doppia detersione (WonderMousse + SuperStrucco)</th>\n",
       "      <td>10</td>\n",
       "      <td>Ok</td>\n",
       "    </tr>\n",
       "    <tr>\n",
       "      <th>SuperStrucco (Balsamo detergente e struccante)</th>\n",
       "      <td>9</td>\n",
       "      <td>Ok</td>\n",
       "    </tr>\n",
       "    <tr>\n",
       "      <th>Palette BeautyLove</th>\n",
       "      <td>7</td>\n",
       "      <td>Ok</td>\n",
       "    </tr>\n",
       "    <tr>\n",
       "      <th>WonderMousse (Mousse viso detergente e struccante)</th>\n",
       "      <td>6</td>\n",
       "      <td>Ok</td>\n",
       "    </tr>\n",
       "    <tr>\n",
       "      <th>Ultrabalm Passion (Limited Edition)</th>\n",
       "      <td>6</td>\n",
       "      <td>Ok</td>\n",
       "    </tr>\n",
       "    <tr>\n",
       "      <th>Kit Paciocchi 5+1</th>\n",
       "      <td>6</td>\n",
       "      <td>Ok</td>\n",
       "    </tr>\n",
       "    <tr>\n",
       "      <th>Pennelli</th>\n",
       "      <td>4</td>\n",
       "      <td>Ok</td>\n",
       "    </tr>\n",
       "    <tr>\n",
       "      <th>Ultrabalm passion (Limited Edition)</th>\n",
       "      <td>1</td>\n",
       "      <td>Invalid</td>\n",
       "    </tr>\n",
       "  </tbody>\n",
       "</table>\n",
       "</div>"
      ],
      "text/plain": [
       "                                                    Occurrences    Valid\n",
       "Rossetti liquidi LiquidLove                                  76       Ok\n",
       "Rossetti cremosi CreamyLove                                  67       Ok\n",
       "Mascara DarkLove                                             62       Ok\n",
       "Correttore OhMyLove                                          48       Ok\n",
       "Ombretti cremosi SweetieLove                                 42       Ok\n",
       "Fondotinta OhMyLove                                          31       Ok\n",
       "Lip balm colorati CoccoLove                                  31       Ok\n",
       "Eyeliner DeepLove                                            29       Ok\n",
       "Matita occhi AllDayLove                                      29       Ok\n",
       "Blush CuteLove                                               22       Ok\n",
       "Ultrabalm CoccoLove                                          21       Ok\n",
       "Ombretti ClioMakeUp Eyeshadow                                19       Ok\n",
       "Ombretti liquidi SweetieLove                                 19       Ok\n",
       "Palette FirstLove                                            19       Ok\n",
       "Palette MyFirstLove ( 4 ombretti)                            16       Ok\n",
       "Illuminante CosmicLove                                       11       Ok\n",
       "Paciocchi (Maschera occhi)                                   11       Ok\n",
       "Matite Sopracciglia AllDayLov Brow                           11       Ok\n",
       "Kit doppia detersione (WonderMousse + SuperStru...           10       Ok\n",
       "SuperStrucco (Balsamo detergente e struccante)                9       Ok\n",
       "Palette BeautyLove                                            7       Ok\n",
       "WonderMousse (Mousse viso detergente e struccante)            6       Ok\n",
       "Ultrabalm Passion (Limited Edition)                           6       Ok\n",
       "Kit Paciocchi 5+1                                             6       Ok\n",
       "Pennelli                                                      4       Ok\n",
       "Ultrabalm passion (Limited Edition)                           1  Invalid"
      ]
     },
     "metadata": {},
     "output_type": "display_data"
    }
   ],
   "source": [
    "column = 'AllPurchases'\n",
    "categories = list(prices_dict.keys())\n",
    "\n",
    "# Check valid answers\n",
    "check_spurious_values(df[column], categories, multiple=True)"
   ]
  },
  {
   "cell_type": "code",
   "execution_count": 16,
   "metadata": {},
   "outputs": [
    {
     "data": {
      "text/html": [
       "<div>\n",
       "<style scoped>\n",
       "    .dataframe tbody tr th:only-of-type {\n",
       "        vertical-align: middle;\n",
       "    }\n",
       "\n",
       "    .dataframe tbody tr th {\n",
       "        vertical-align: top;\n",
       "    }\n",
       "\n",
       "    .dataframe thead th {\n",
       "        text-align: right;\n",
       "    }\n",
       "</style>\n",
       "<table border=\"1\" class=\"dataframe\">\n",
       "  <thead>\n",
       "    <tr style=\"text-align: right;\">\n",
       "      <th></th>\n",
       "      <th>Occurrences</th>\n",
       "      <th>Valid</th>\n",
       "    </tr>\n",
       "  </thead>\n",
       "  <tbody>\n",
       "    <tr>\n",
       "      <th>Rossetti liquidi LiquidLove</th>\n",
       "      <td>76</td>\n",
       "      <td>Ok</td>\n",
       "    </tr>\n",
       "    <tr>\n",
       "      <th>Rossetti cremosi CreamyLove</th>\n",
       "      <td>67</td>\n",
       "      <td>Ok</td>\n",
       "    </tr>\n",
       "    <tr>\n",
       "      <th>Mascara DarkLove</th>\n",
       "      <td>62</td>\n",
       "      <td>Ok</td>\n",
       "    </tr>\n",
       "    <tr>\n",
       "      <th>Correttore OhMyLove</th>\n",
       "      <td>48</td>\n",
       "      <td>Ok</td>\n",
       "    </tr>\n",
       "    <tr>\n",
       "      <th>Ombretti cremosi SweetieLove</th>\n",
       "      <td>42</td>\n",
       "      <td>Ok</td>\n",
       "    </tr>\n",
       "    <tr>\n",
       "      <th>Fondotinta OhMyLove</th>\n",
       "      <td>31</td>\n",
       "      <td>Ok</td>\n",
       "    </tr>\n",
       "    <tr>\n",
       "      <th>Lip balm colorati CoccoLove</th>\n",
       "      <td>31</td>\n",
       "      <td>Ok</td>\n",
       "    </tr>\n",
       "    <tr>\n",
       "      <th>Eyeliner DeepLove</th>\n",
       "      <td>29</td>\n",
       "      <td>Ok</td>\n",
       "    </tr>\n",
       "    <tr>\n",
       "      <th>Matita occhi AllDayLove</th>\n",
       "      <td>29</td>\n",
       "      <td>Ok</td>\n",
       "    </tr>\n",
       "    <tr>\n",
       "      <th>Blush CuteLove</th>\n",
       "      <td>22</td>\n",
       "      <td>Ok</td>\n",
       "    </tr>\n",
       "    <tr>\n",
       "      <th>Ultrabalm CoccoLove</th>\n",
       "      <td>21</td>\n",
       "      <td>Ok</td>\n",
       "    </tr>\n",
       "    <tr>\n",
       "      <th>Ombretti ClioMakeUp Eyeshadow</th>\n",
       "      <td>19</td>\n",
       "      <td>Ok</td>\n",
       "    </tr>\n",
       "    <tr>\n",
       "      <th>Palette FirstLove</th>\n",
       "      <td>19</td>\n",
       "      <td>Ok</td>\n",
       "    </tr>\n",
       "    <tr>\n",
       "      <th>Ombretti liquidi SweetieLove</th>\n",
       "      <td>19</td>\n",
       "      <td>Ok</td>\n",
       "    </tr>\n",
       "    <tr>\n",
       "      <th>Palette MyFirstLove ( 4 ombretti)</th>\n",
       "      <td>16</td>\n",
       "      <td>Ok</td>\n",
       "    </tr>\n",
       "    <tr>\n",
       "      <th>Illuminante CosmicLove</th>\n",
       "      <td>11</td>\n",
       "      <td>Ok</td>\n",
       "    </tr>\n",
       "    <tr>\n",
       "      <th>Matite Sopracciglia AllDayLov Brow</th>\n",
       "      <td>11</td>\n",
       "      <td>Ok</td>\n",
       "    </tr>\n",
       "    <tr>\n",
       "      <th>Paciocchi (Maschera occhi)</th>\n",
       "      <td>11</td>\n",
       "      <td>Ok</td>\n",
       "    </tr>\n",
       "    <tr>\n",
       "      <th>Kit doppia detersione (WonderMousse + SuperStrucco)</th>\n",
       "      <td>10</td>\n",
       "      <td>Ok</td>\n",
       "    </tr>\n",
       "    <tr>\n",
       "      <th>SuperStrucco (Balsamo detergente e struccante)</th>\n",
       "      <td>9</td>\n",
       "      <td>Ok</td>\n",
       "    </tr>\n",
       "    <tr>\n",
       "      <th>Palette BeautyLove</th>\n",
       "      <td>7</td>\n",
       "      <td>Ok</td>\n",
       "    </tr>\n",
       "    <tr>\n",
       "      <th>Ultrabalm Passion (Limited Edition)</th>\n",
       "      <td>7</td>\n",
       "      <td>Ok</td>\n",
       "    </tr>\n",
       "    <tr>\n",
       "      <th>WonderMousse (Mousse viso detergente e struccante)</th>\n",
       "      <td>6</td>\n",
       "      <td>Ok</td>\n",
       "    </tr>\n",
       "    <tr>\n",
       "      <th>Kit Paciocchi 5+1</th>\n",
       "      <td>6</td>\n",
       "      <td>Ok</td>\n",
       "    </tr>\n",
       "    <tr>\n",
       "      <th>Pennelli</th>\n",
       "      <td>4</td>\n",
       "      <td>Ok</td>\n",
       "    </tr>\n",
       "  </tbody>\n",
       "</table>\n",
       "</div>"
      ],
      "text/plain": [
       "                                                    Occurrences Valid\n",
       "Rossetti liquidi LiquidLove                                  76    Ok\n",
       "Rossetti cremosi CreamyLove                                  67    Ok\n",
       "Mascara DarkLove                                             62    Ok\n",
       "Correttore OhMyLove                                          48    Ok\n",
       "Ombretti cremosi SweetieLove                                 42    Ok\n",
       "Fondotinta OhMyLove                                          31    Ok\n",
       "Lip balm colorati CoccoLove                                  31    Ok\n",
       "Eyeliner DeepLove                                            29    Ok\n",
       "Matita occhi AllDayLove                                      29    Ok\n",
       "Blush CuteLove                                               22    Ok\n",
       "Ultrabalm CoccoLove                                          21    Ok\n",
       "Ombretti ClioMakeUp Eyeshadow                                19    Ok\n",
       "Palette FirstLove                                            19    Ok\n",
       "Ombretti liquidi SweetieLove                                 19    Ok\n",
       "Palette MyFirstLove ( 4 ombretti)                            16    Ok\n",
       "Illuminante CosmicLove                                       11    Ok\n",
       "Matite Sopracciglia AllDayLov Brow                           11    Ok\n",
       "Paciocchi (Maschera occhi)                                   11    Ok\n",
       "Kit doppia detersione (WonderMousse + SuperStru...           10    Ok\n",
       "SuperStrucco (Balsamo detergente e struccante)                9    Ok\n",
       "Palette BeautyLove                                            7    Ok\n",
       "Ultrabalm Passion (Limited Edition)                           7    Ok\n",
       "WonderMousse (Mousse viso detergente e struccante)            6    Ok\n",
       "Kit Paciocchi 5+1                                             6    Ok\n",
       "Pennelli                                                      4    Ok"
      ]
     },
     "metadata": {},
     "output_type": "display_data"
    }
   ],
   "source": [
    "# Clean data\n",
    "df[column] = df[column].str.replace('passion', 'Passion')\n",
    "check_spurious_values(df[column], categories, multiple=True)\n",
    "# Turn single strings into list of strings\n",
    "df[column] = df[column].str.split(',').map(lambda item: [i.strip() for i in item], na_action='ignore')"
   ]
  },
  {
   "cell_type": "markdown",
   "metadata": {},
   "source": [
    "#### Satisfaction"
   ]
  },
  {
   "cell_type": "code",
   "execution_count": 17,
   "metadata": {},
   "outputs": [
    {
     "data": {
      "text/html": [
       "<div>\n",
       "<style scoped>\n",
       "    .dataframe tbody tr th:only-of-type {\n",
       "        vertical-align: middle;\n",
       "    }\n",
       "\n",
       "    .dataframe tbody tr th {\n",
       "        vertical-align: top;\n",
       "    }\n",
       "\n",
       "    .dataframe thead th {\n",
       "        text-align: right;\n",
       "    }\n",
       "</style>\n",
       "<table border=\"1\" class=\"dataframe\">\n",
       "  <thead>\n",
       "    <tr style=\"text-align: right;\">\n",
       "      <th></th>\n",
       "      <th>Occurrences</th>\n",
       "      <th>Valid</th>\n",
       "    </tr>\n",
       "  </thead>\n",
       "  <tbody>\n",
       "    <tr>\n",
       "      <th>Assolutamente si</th>\n",
       "      <td>56</td>\n",
       "      <td>Ok</td>\n",
       "    </tr>\n",
       "    <tr>\n",
       "      <th>Sì</th>\n",
       "      <td>44</td>\n",
       "      <td>Ok</td>\n",
       "    </tr>\n",
       "    <tr>\n",
       "      <th>Sì, ma non di tutti</th>\n",
       "      <td>28</td>\n",
       "      <td>Ok</td>\n",
       "    </tr>\n",
       "    <tr>\n",
       "      <th>No</th>\n",
       "      <td>3</td>\n",
       "      <td>Ok</td>\n",
       "    </tr>\n",
       "    <tr>\n",
       "      <th>Assolutamente no</th>\n",
       "      <td>2</td>\n",
       "      <td>Ok</td>\n",
       "    </tr>\n",
       "  </tbody>\n",
       "</table>\n",
       "</div>"
      ],
      "text/plain": [
       "                     Occurrences Valid\n",
       "Assolutamente si              56    Ok\n",
       "Sì                            44    Ok\n",
       "Sì, ma non di tutti           28    Ok\n",
       "No                             3    Ok\n",
       "Assolutamente no               2    Ok"
      ]
     },
     "metadata": {},
     "output_type": "display_data"
    }
   ],
   "source": [
    "column = 'Satisfaction'\n",
    "categories = {\n",
    "    \"Assolutamente si\":     \"Definitely yes\",\n",
    "    \"Sì\":                   \"Yes\",\n",
    "    \"Sì, ma non di tutti\":  \"Yes, but not all\",\n",
    "    \"No\":                   \"No\",\n",
    "    \"Assolutamente no\":     \"Definitely no\",\n",
    "}\n",
    "\n",
    "# Check valid answers\n",
    "check_spurious_values(df[column], categories)"
   ]
  },
  {
   "cell_type": "markdown",
   "metadata": {},
   "source": [
    "No invalid answers, so we just set the categories. Nothing to correct."
   ]
  },
  {
   "cell_type": "code",
   "execution_count": 18,
   "metadata": {},
   "outputs": [],
   "source": [
    "# Set categories\n",
    "df[column] = fill_rename_categories(df[column], categories)"
   ]
  },
  {
   "cell_type": "markdown",
   "metadata": {},
   "source": [
    "#### Gender"
   ]
  },
  {
   "cell_type": "code",
   "execution_count": 19,
   "metadata": {},
   "outputs": [],
   "source": [
    "column = 'Gender'\n",
    "categories = {\n",
    "    \"Maschio\":  \"Male\",\n",
    "    \"Femmina\":  \"Female\",\n",
    "    \"Altro\":    \"Other\",\n",
    "}\n",
    "# Set categories\n",
    "df[column] = fill_rename_categories(df[column], categories)"
   ]
  },
  {
   "cell_type": "markdown",
   "metadata": {},
   "source": [
    "#### Age"
   ]
  },
  {
   "cell_type": "code",
   "execution_count": 20,
   "metadata": {},
   "outputs": [],
   "source": [
    "column = 'Age'\n",
    "# Just set the data type as integer\n",
    "df[column] = df[column].astype('int')"
   ]
  },
  {
   "cell_type": "markdown",
   "metadata": {},
   "source": [
    "#### Education"
   ]
  },
  {
   "cell_type": "code",
   "execution_count": 21,
   "metadata": {},
   "outputs": [
    {
     "data": {
      "text/html": [
       "<div>\n",
       "<style scoped>\n",
       "    .dataframe tbody tr th:only-of-type {\n",
       "        vertical-align: middle;\n",
       "    }\n",
       "\n",
       "    .dataframe tbody tr th {\n",
       "        vertical-align: top;\n",
       "    }\n",
       "\n",
       "    .dataframe thead th {\n",
       "        text-align: right;\n",
       "    }\n",
       "</style>\n",
       "<table border=\"1\" class=\"dataframe\">\n",
       "  <thead>\n",
       "    <tr style=\"text-align: right;\">\n",
       "      <th></th>\n",
       "      <th>Occurrences</th>\n",
       "      <th>Valid</th>\n",
       "    </tr>\n",
       "  </thead>\n",
       "  <tbody>\n",
       "    <tr>\n",
       "      <th>Scuola secondaria di secondo grado</th>\n",
       "      <td>114</td>\n",
       "      <td>Ok</td>\n",
       "    </tr>\n",
       "    <tr>\n",
       "      <th>Laurea triennale</th>\n",
       "      <td>107</td>\n",
       "      <td>Ok</td>\n",
       "    </tr>\n",
       "    <tr>\n",
       "      <th>Laurea magistrale</th>\n",
       "      <td>71</td>\n",
       "      <td>Ok</td>\n",
       "    </tr>\n",
       "    <tr>\n",
       "      <th>Master</th>\n",
       "      <td>20</td>\n",
       "      <td>Ok</td>\n",
       "    </tr>\n",
       "    <tr>\n",
       "      <th>Licenza media</th>\n",
       "      <td>11</td>\n",
       "      <td>Ok</td>\n",
       "    </tr>\n",
       "    <tr>\n",
       "      <th>Dottorato di ricerca</th>\n",
       "      <td>4</td>\n",
       "      <td>Ok</td>\n",
       "    </tr>\n",
       "    <tr>\n",
       "      <th>Acconciatura</th>\n",
       "      <td>1</td>\n",
       "      <td>Invalid</td>\n",
       "    </tr>\n",
       "    <tr>\n",
       "      <th>Estetista, onicotenica</th>\n",
       "      <td>1</td>\n",
       "      <td>Invalid</td>\n",
       "    </tr>\n",
       "  </tbody>\n",
       "</table>\n",
       "</div>"
      ],
      "text/plain": [
       "                                    Occurrences    Valid\n",
       "Scuola secondaria di secondo grado          114       Ok\n",
       "Laurea triennale                            107       Ok\n",
       "Laurea magistrale                            71       Ok\n",
       "Master                                       20       Ok\n",
       "Licenza media                                11       Ok\n",
       "Dottorato di ricerca                          4       Ok\n",
       "Acconciatura                                  1  Invalid\n",
       "Estetista, onicotenica                        1  Invalid"
      ]
     },
     "metadata": {},
     "output_type": "display_data"
    }
   ],
   "source": [
    "column = 'Education'\n",
    "categories = {\n",
    "    \"Licenza media\":                        \"Middle school\",\n",
    "    \"Scuola secondaria di secondo grado\":   \"High school\",\n",
    "    \"Laurea triennale\":                     \"Bachelor's degree\",\n",
    "    \"Laurea magistrale\":                    \"Master's degree\",\n",
    "    \"Master\":                               \"Postgraduate specialisation\",\n",
    "    \"Dottorato di ricerca\":                 \"PhD\",\n",
    "}\n",
    "\n",
    "# Check valid answers\n",
    "check_spurious_values(df[column], categories)"
   ]
  },
  {
   "cell_type": "markdown",
   "metadata": {},
   "source": [
    "We make some assumptions on the education for the two invalid answers so we can still use those entries."
   ]
  },
  {
   "cell_type": "code",
   "execution_count": 22,
   "metadata": {},
   "outputs": [
    {
     "data": {
      "text/html": [
       "<div>\n",
       "<style scoped>\n",
       "    .dataframe tbody tr th:only-of-type {\n",
       "        vertical-align: middle;\n",
       "    }\n",
       "\n",
       "    .dataframe tbody tr th {\n",
       "        vertical-align: top;\n",
       "    }\n",
       "\n",
       "    .dataframe thead th {\n",
       "        text-align: right;\n",
       "    }\n",
       "</style>\n",
       "<table border=\"1\" class=\"dataframe\">\n",
       "  <thead>\n",
       "    <tr style=\"text-align: right;\">\n",
       "      <th></th>\n",
       "      <th>Occurrences</th>\n",
       "      <th>Valid</th>\n",
       "    </tr>\n",
       "  </thead>\n",
       "  <tbody>\n",
       "    <tr>\n",
       "      <th>Scuola secondaria di secondo grado</th>\n",
       "      <td>115</td>\n",
       "      <td>Ok</td>\n",
       "    </tr>\n",
       "    <tr>\n",
       "      <th>Laurea triennale</th>\n",
       "      <td>107</td>\n",
       "      <td>Ok</td>\n",
       "    </tr>\n",
       "    <tr>\n",
       "      <th>Laurea magistrale</th>\n",
       "      <td>71</td>\n",
       "      <td>Ok</td>\n",
       "    </tr>\n",
       "    <tr>\n",
       "      <th>Master</th>\n",
       "      <td>20</td>\n",
       "      <td>Ok</td>\n",
       "    </tr>\n",
       "    <tr>\n",
       "      <th>Licenza media</th>\n",
       "      <td>12</td>\n",
       "      <td>Ok</td>\n",
       "    </tr>\n",
       "    <tr>\n",
       "      <th>Dottorato di ricerca</th>\n",
       "      <td>4</td>\n",
       "      <td>Ok</td>\n",
       "    </tr>\n",
       "  </tbody>\n",
       "</table>\n",
       "</div>"
      ],
      "text/plain": [
       "                                    Occurrences Valid\n",
       "Scuola secondaria di secondo grado          115    Ok\n",
       "Laurea triennale                            107    Ok\n",
       "Laurea magistrale                            71    Ok\n",
       "Master                                       20    Ok\n",
       "Licenza media                                12    Ok\n",
       "Dottorato di ricerca                          4    Ok"
      ]
     },
     "metadata": {},
     "output_type": "display_data"
    }
   ],
   "source": [
    "# Clean data\n",
    "df[column] = df[column].str.replace('Acconciatura', 'Licenza media')\n",
    "index = df[df[column].str.contains('Estetista, onicotenica')].index[0]\n",
    "df.at[index, column] = 'Scuola secondaria di secondo grado'\n",
    "check_spurious_values(df[column], categories)"
   ]
  },
  {
   "cell_type": "code",
   "execution_count": 23,
   "metadata": {},
   "outputs": [],
   "source": [
    "# Set categories\n",
    "df[column] = fill_rename_categories(df[column], categories)"
   ]
  },
  {
   "cell_type": "markdown",
   "metadata": {},
   "source": [
    "#### Profession"
   ]
  },
  {
   "cell_type": "code",
   "execution_count": 24,
   "metadata": {},
   "outputs": [],
   "source": [
    "column = 'Profession'\n",
    "categories = {\n",
    "    \"Studente\":                                     \"Student\",\n",
    "    \"Stagista\":                                     \"Intern\",\n",
    "    \"Lavoratore autonomo\":                          \"Self-employed\",\n",
    "    \"Lavoratore dipendente a tempo determinato\":    \"Employed (fixed-term contract)\",\n",
    "    \"Lavoratore dipendente a tempo indeterminato\":  \"Employed (permanent contract)\",\n",
    "    \"Disoccupata\\o\":                                \"Unemployed\",\n",
    "    \"Altro\":                                        \"Other\",\n",
    "}\n",
    "df[column] = fill_rename_categories(df[column], categories)"
   ]
  },
  {
   "cell_type": "markdown",
   "metadata": {},
   "source": [
    "#### SelfOrOthers"
   ]
  },
  {
   "cell_type": "code",
   "execution_count": 25,
   "metadata": {},
   "outputs": [
    {
     "data": {
      "text/html": [
       "<div>\n",
       "<style scoped>\n",
       "    .dataframe tbody tr th:only-of-type {\n",
       "        vertical-align: middle;\n",
       "    }\n",
       "\n",
       "    .dataframe tbody tr th {\n",
       "        vertical-align: top;\n",
       "    }\n",
       "\n",
       "    .dataframe thead th {\n",
       "        text-align: right;\n",
       "    }\n",
       "</style>\n",
       "<table border=\"1\" class=\"dataframe\">\n",
       "  <thead>\n",
       "    <tr style=\"text-align: right;\">\n",
       "      <th></th>\n",
       "      <th>Occurrences</th>\n",
       "      <th>Valid</th>\n",
       "    </tr>\n",
       "  </thead>\n",
       "  <tbody>\n",
       "    <tr>\n",
       "      <th>Me</th>\n",
       "      <td>129</td>\n",
       "      <td>Ok</td>\n",
       "    </tr>\n",
       "    <tr>\n",
       "      <th>Famiglia</th>\n",
       "      <td>29</td>\n",
       "      <td>Ok</td>\n",
       "    </tr>\n",
       "    <tr>\n",
       "      <th>Amic*</th>\n",
       "      <td>17</td>\n",
       "      <td>Ok</td>\n",
       "    </tr>\n",
       "    <tr>\n",
       "      <th>Per il mio kit professionale</th>\n",
       "      <td>1</td>\n",
       "      <td>Invalid</td>\n",
       "    </tr>\n",
       "    <tr>\n",
       "      <th>Partner</th>\n",
       "      <td>1</td>\n",
       "      <td>Ok</td>\n",
       "    </tr>\n",
       "  </tbody>\n",
       "</table>\n",
       "</div>"
      ],
      "text/plain": [
       "                              Occurrences    Valid\n",
       "Me                                    129       Ok\n",
       "Famiglia                               29       Ok\n",
       "Amic*                                  17       Ok\n",
       "Per il mio kit professionale            1  Invalid\n",
       "Partner                                 1       Ok"
      ]
     },
     "metadata": {},
     "output_type": "display_data"
    }
   ],
   "source": [
    "column = 'SelfOrOthers'\n",
    "categories = {\n",
    "    \"Me\":       \"Me\",\n",
    "    \"Famiglia\": \"Family\",\n",
    "    \"Amic*\":    \"Friends\",\n",
    "    \"Partner\":  \"Partner\",\n",
    "}\n",
    "\n",
    "# Check valid answers\n",
    "check_spurious_values(df[column], categories, multiple=True)"
   ]
  },
  {
   "cell_type": "code",
   "execution_count": 26,
   "metadata": {},
   "outputs": [
    {
     "data": {
      "text/html": [
       "<div>\n",
       "<style scoped>\n",
       "    .dataframe tbody tr th:only-of-type {\n",
       "        vertical-align: middle;\n",
       "    }\n",
       "\n",
       "    .dataframe tbody tr th {\n",
       "        vertical-align: top;\n",
       "    }\n",
       "\n",
       "    .dataframe thead th {\n",
       "        text-align: right;\n",
       "    }\n",
       "</style>\n",
       "<table border=\"1\" class=\"dataframe\">\n",
       "  <thead>\n",
       "    <tr style=\"text-align: right;\">\n",
       "      <th></th>\n",
       "      <th>Occurrences</th>\n",
       "      <th>Valid</th>\n",
       "    </tr>\n",
       "  </thead>\n",
       "  <tbody>\n",
       "    <tr>\n",
       "      <th>Me</th>\n",
       "      <td>130</td>\n",
       "      <td>Ok</td>\n",
       "    </tr>\n",
       "    <tr>\n",
       "      <th>Famiglia</th>\n",
       "      <td>29</td>\n",
       "      <td>Ok</td>\n",
       "    </tr>\n",
       "    <tr>\n",
       "      <th>Amic*</th>\n",
       "      <td>17</td>\n",
       "      <td>Ok</td>\n",
       "    </tr>\n",
       "    <tr>\n",
       "      <th>Partner</th>\n",
       "      <td>1</td>\n",
       "      <td>Ok</td>\n",
       "    </tr>\n",
       "  </tbody>\n",
       "</table>\n",
       "</div>"
      ],
      "text/plain": [
       "          Occurrences Valid\n",
       "Me                130    Ok\n",
       "Famiglia           29    Ok\n",
       "Amic*              17    Ok\n",
       "Partner             1    Ok"
      ]
     },
     "metadata": {},
     "output_type": "display_data"
    }
   ],
   "source": [
    "# Clean data\n",
    "df[column] = df[column].str.replace('Per il mio kit professionale', 'Me')\n",
    "check_spurious_values(df[column], categories, multiple=True)"
   ]
  },
  {
   "cell_type": "code",
   "execution_count": 27,
   "metadata": {},
   "outputs": [],
   "source": [
    "# Translate data\n",
    "# We can't use the fill_rename_categories() method because each entry is a single string of multiple answers\n",
    "for key, value in categories.items():\n",
    "    df[column] = df[column].str.replace(key, value, regex=False)"
   ]
  },
  {
   "cell_type": "code",
   "execution_count": 28,
   "metadata": {},
   "outputs": [],
   "source": [
    "# Turn single strings into list of strings\n",
    "df[column] = df[column].str.split(',').map(lambda item: [i.strip() for i in item], na_action='ignore')"
   ]
  },
  {
   "cell_type": "markdown",
   "metadata": {},
   "source": [
    "Show the final resulting dataframe"
   ]
  },
  {
   "cell_type": "code",
   "execution_count": 29,
   "metadata": {},
   "outputs": [
    {
     "data": {
      "text/html": [
       "<div>\n",
       "<style scoped>\n",
       "    .dataframe tbody tr th:only-of-type {\n",
       "        vertical-align: middle;\n",
       "    }\n",
       "\n",
       "    .dataframe tbody tr th {\n",
       "        vertical-align: top;\n",
       "    }\n",
       "\n",
       "    .dataframe thead th {\n",
       "        text-align: right;\n",
       "    }\n",
       "</style>\n",
       "<table border=\"1\" class=\"dataframe\">\n",
       "  <thead>\n",
       "    <tr style=\"text-align: right;\">\n",
       "      <th></th>\n",
       "      <th>Customer</th>\n",
       "      <th>Frequency</th>\n",
       "      <th>PurchaseLocation</th>\n",
       "      <th>...</th>\n",
       "      <th>PurchaseChannel</th>\n",
       "      <th>ReceiptAmount</th>\n",
       "      <th>ReceiptAmountGroup</th>\n",
       "    </tr>\n",
       "  </thead>\n",
       "  <tbody>\n",
       "    <tr>\n",
       "      <th>0</th>\n",
       "      <td>Yes</td>\n",
       "      <td>1-2 times a year</td>\n",
       "      <td>E-commerce, PopUp Store</td>\n",
       "      <td>...</td>\n",
       "      <td>[Offline store, E-commerce]</td>\n",
       "      <td>13.5</td>\n",
       "      <td>&lt;20€</td>\n",
       "    </tr>\n",
       "    <tr>\n",
       "      <th>1</th>\n",
       "      <td>No</td>\n",
       "      <td>NaN</td>\n",
       "      <td>NaN</td>\n",
       "      <td>...</td>\n",
       "      <td>[nan]</td>\n",
       "      <td>NaN</td>\n",
       "      <td>NaN</td>\n",
       "    </tr>\n",
       "    <tr>\n",
       "      <th>2</th>\n",
       "      <td>No</td>\n",
       "      <td>NaN</td>\n",
       "      <td>NaN</td>\n",
       "      <td>...</td>\n",
       "      <td>[nan]</td>\n",
       "      <td>NaN</td>\n",
       "      <td>NaN</td>\n",
       "    </tr>\n",
       "    <tr>\n",
       "      <th>3</th>\n",
       "      <td>Yes</td>\n",
       "      <td>1-2 times a year</td>\n",
       "      <td>ClioMakeUp Experience Store</td>\n",
       "      <td>...</td>\n",
       "      <td>[Offline store]</td>\n",
       "      <td>13.5</td>\n",
       "      <td>&lt;20€</td>\n",
       "    </tr>\n",
       "    <tr>\n",
       "      <th>4</th>\n",
       "      <td>Yes</td>\n",
       "      <td>5-6 times a year</td>\n",
       "      <td>E-commerce</td>\n",
       "      <td>...</td>\n",
       "      <td>[E-commerce]</td>\n",
       "      <td>45.5</td>\n",
       "      <td>40-60€</td>\n",
       "    </tr>\n",
       "    <tr>\n",
       "      <th>...</th>\n",
       "      <td>...</td>\n",
       "      <td>...</td>\n",
       "      <td>...</td>\n",
       "      <td>...</td>\n",
       "      <td>...</td>\n",
       "      <td>...</td>\n",
       "      <td>...</td>\n",
       "    </tr>\n",
       "    <tr>\n",
       "      <th>324</th>\n",
       "      <td>No</td>\n",
       "      <td>NaN</td>\n",
       "      <td>NaN</td>\n",
       "      <td>...</td>\n",
       "      <td>[nan]</td>\n",
       "      <td>NaN</td>\n",
       "      <td>NaN</td>\n",
       "    </tr>\n",
       "    <tr>\n",
       "      <th>325</th>\n",
       "      <td>Yes</td>\n",
       "      <td>1-2 times a year</td>\n",
       "      <td>E-commerce</td>\n",
       "      <td>...</td>\n",
       "      <td>[E-commerce]</td>\n",
       "      <td>13.5</td>\n",
       "      <td>&lt;20€</td>\n",
       "    </tr>\n",
       "    <tr>\n",
       "      <th>326</th>\n",
       "      <td>No</td>\n",
       "      <td>NaN</td>\n",
       "      <td>NaN</td>\n",
       "      <td>...</td>\n",
       "      <td>[nan]</td>\n",
       "      <td>NaN</td>\n",
       "      <td>NaN</td>\n",
       "    </tr>\n",
       "    <tr>\n",
       "      <th>327</th>\n",
       "      <td>No</td>\n",
       "      <td>NaN</td>\n",
       "      <td>NaN</td>\n",
       "      <td>...</td>\n",
       "      <td>[nan]</td>\n",
       "      <td>NaN</td>\n",
       "      <td>NaN</td>\n",
       "    </tr>\n",
       "    <tr>\n",
       "      <th>328</th>\n",
       "      <td>No</td>\n",
       "      <td>NaN</td>\n",
       "      <td>NaN</td>\n",
       "      <td>...</td>\n",
       "      <td>[nan]</td>\n",
       "      <td>NaN</td>\n",
       "      <td>NaN</td>\n",
       "    </tr>\n",
       "  </tbody>\n",
       "</table>\n",
       "<p>329 rows × 17 columns</p>\n",
       "</div>"
      ],
      "text/plain": [
       "    Customer         Frequency             PurchaseLocation  ...  \\\n",
       "0        Yes  1-2 times a year      E-commerce, PopUp Store  ...   \n",
       "1         No               NaN                          NaN  ...   \n",
       "2         No               NaN                          NaN  ...   \n",
       "3        Yes  1-2 times a year  ClioMakeUp Experience Store  ...   \n",
       "4        Yes  5-6 times a year                   E-commerce  ...   \n",
       "..       ...               ...                          ...  ...   \n",
       "324       No               NaN                          NaN  ...   \n",
       "325      Yes  1-2 times a year                   E-commerce  ...   \n",
       "326       No               NaN                          NaN  ...   \n",
       "327       No               NaN                          NaN  ...   \n",
       "328       No               NaN                          NaN  ...   \n",
       "\n",
       "                 PurchaseChannel ReceiptAmount ReceiptAmountGroup  \n",
       "0    [Offline store, E-commerce]          13.5               <20€  \n",
       "1                          [nan]           NaN                NaN  \n",
       "2                          [nan]           NaN                NaN  \n",
       "3                [Offline store]          13.5               <20€  \n",
       "4                   [E-commerce]          45.5             40-60€  \n",
       "..                           ...           ...                ...  \n",
       "324                        [nan]           NaN                NaN  \n",
       "325                 [E-commerce]          13.5               <20€  \n",
       "326                        [nan]           NaN                NaN  \n",
       "327                        [nan]           NaN                NaN  \n",
       "328                        [nan]           NaN                NaN  \n",
       "\n",
       "[329 rows x 17 columns]"
      ]
     },
     "execution_count": 29,
     "metadata": {},
     "output_type": "execute_result"
    }
   ],
   "source": [
    "df"
   ]
  },
  {
   "cell_type": "markdown",
   "metadata": {},
   "source": [
    "## Demographic analysis"
   ]
  },
  {
   "cell_type": "code",
   "execution_count": 30,
   "metadata": {},
   "outputs": [],
   "source": [
    "# Imports matplotlib and helper stuff for plots\n",
    "import plot_config as pcfg"
   ]
  },
  {
   "cell_type": "markdown",
   "metadata": {},
   "source": [
    "### Gender"
   ]
  },
  {
   "cell_type": "code",
   "execution_count": 31,
   "metadata": {},
   "outputs": [],
   "source": [
    "df['Gender'].value_counts().plot.pie(**pcfg.pie_kwargs)\n",
    "pcfg.save_fig('dem01_gender')"
   ]
  },
  {
   "cell_type": "markdown",
   "metadata": {},
   "source": [
    "### Age"
   ]
  },
  {
   "cell_type": "code",
   "execution_count": 32,
   "metadata": {},
   "outputs": [
    {
     "data": {
      "text/plain": [
       "count    329.000000\n",
       "mean      28.085106\n",
       "std        8.193472\n",
       "min       18.000000\n",
       "25%       23.000000\n",
       "50%       26.000000\n",
       "75%       31.000000\n",
       "max       66.000000\n",
       "Name: Age, dtype: float64"
      ]
     },
     "execution_count": 32,
     "metadata": {},
     "output_type": "execute_result"
    }
   ],
   "source": [
    "# See info about age\n",
    "df['Age'].describe()"
   ]
  },
  {
   "cell_type": "code",
   "execution_count": 33,
   "metadata": {},
   "outputs": [
    {
     "data": {
      "text/plain": [
       "<25      0.471125\n",
       "25-35    0.386018\n",
       "35-45    0.091185\n",
       ">45      0.051672\n",
       "Name: AgeGroup, dtype: float64"
      ]
     },
     "execution_count": 33,
     "metadata": {},
     "output_type": "execute_result"
    }
   ],
   "source": [
    "# Create age groups\n",
    "df['AgeGroup'] = pd.cut(df['Age'], [0, 25, 35, 45, 1000], labels=['<25', '25-35', '35-45', '>45'])\n",
    "df['AgeGroup'].value_counts(normalize=True).sort_index()"
   ]
  },
  {
   "cell_type": "code",
   "execution_count": 34,
   "metadata": {},
   "outputs": [],
   "source": [
    "y = df['AgeGroup'].value_counts(normalize=True).sort_index() * 100\n",
    "ax = y.plot.bar(**pcfg.bar_kwargs, color=pcfg.random_color())\n",
    "ax.set_ylabel('%')\n",
    "pcfg.hide_spines(ax)\n",
    "pcfg.save_fig('dem02_age')"
   ]
  },
  {
   "cell_type": "markdown",
   "metadata": {},
   "source": [
    "### Education"
   ]
  },
  {
   "cell_type": "code",
   "execution_count": 35,
   "metadata": {},
   "outputs": [
    {
     "data": {
      "text/plain": [
       "Middle school                   3.647416\n",
       "High school                    34.954407\n",
       "Bachelor's degree              32.522796\n",
       "Master's degree                21.580547\n",
       "Postgraduate specialisation     6.079027\n",
       "PhD                             1.215805\n",
       "Name: Education, dtype: float64"
      ]
     },
     "execution_count": 35,
     "metadata": {},
     "output_type": "execute_result"
    }
   ],
   "source": [
    "df['Education'].value_counts(normalize=True).sort_index() * 100"
   ]
  },
  {
   "cell_type": "code",
   "execution_count": 36,
   "metadata": {},
   "outputs": [],
   "source": [
    "x = df['Education'].value_counts(normalize=True).sort_index(ascending=False) * 100\n",
    "ax = x.plot.barh(**pcfg.bar_kwargs, color=pcfg.random_color())\n",
    "ax.set_xlabel('%')\n",
    "pcfg.hide_spines(ax)\n",
    "pcfg.save_fig('dem03_education')"
   ]
  },
  {
   "cell_type": "markdown",
   "metadata": {},
   "source": [
    "### Profession"
   ]
  },
  {
   "cell_type": "code",
   "execution_count": 37,
   "metadata": {},
   "outputs": [
    {
     "data": {
      "text/plain": [
       "Student                           41.945289\n",
       "Intern                             4.255319\n",
       "Self-employed                      7.598784\n",
       "Employed (fixed-term contract)    12.462006\n",
       "Employed (permanent contract)     21.276596\n",
       "Unemployed                         6.079027\n",
       "Other                              6.382979\n",
       "Name: Profession, dtype: float64"
      ]
     },
     "execution_count": 37,
     "metadata": {},
     "output_type": "execute_result"
    }
   ],
   "source": [
    "df['Profession'].value_counts(normalize=True).sort_index() * 100"
   ]
  },
  {
   "cell_type": "code",
   "execution_count": 38,
   "metadata": {},
   "outputs": [],
   "source": [
    "x = df['Profession'].value_counts(normalize=True).sort_index(ascending=False) * 100\n",
    "ax = x.plot.barh(**pcfg.bar_kwargs, color=pcfg.random_color())\n",
    "ax.set_xlabel('%')\n",
    "pcfg.hide_spines(ax)\n",
    "pcfg.save_fig('dem04_profession')"
   ]
  },
  {
   "cell_type": "markdown",
   "metadata": {},
   "source": [
    "## Response analysis"
   ]
  },
  {
   "cell_type": "code",
   "execution_count": 39,
   "metadata": {},
   "outputs": [],
   "source": [
    "from matplotlib_venn import venn3\n",
    "import helpers as h"
   ]
  },
  {
   "cell_type": "markdown",
   "metadata": {},
   "source": [
    "### Check significance of all the possible contingency tables between columns"
   ]
  },
  {
   "cell_type": "code",
   "execution_count": 40,
   "metadata": {},
   "outputs": [],
   "source": [
    "x = ['Customer', 'Frequency', 'BrandKnownFor', 'Satisfaction', 'ReceiptAmountGroup', 'PurchaseChannel', 'SelfOrOthers']\n",
    "y_brand = ['Frequency', 'BrandKnownFor', 'Satisfaction', 'ReceiptAmountGroup', 'PurchaseChannel', 'SelfOrOthers']\n",
    "y_dem = ['Gender', 'Education', 'Profession', 'AgeGroup']\n",
    "\n",
    "for i in x:\n",
    "    if any(isinstance(e, list) for e in df[i]):\n",
    "        wdf = df.explode(i)\n",
    "    else:\n",
    "        wdf = df\n",
    "\n",
    "    if i == 'Customer':\n",
    "        y = y_dem\n",
    "    else:\n",
    "        y = y_dem + y_brand\n",
    "        y.remove('Gender')\n",
    "        wdf = wdf[wdf['Customer'] == 'Yes']\n",
    "    for j in y:\n",
    "        if any(isinstance(e, list) for e in wdf[j]):\n",
    "            wdf = wdf.explode(j)\n",
    "        if j != i:\n",
    "            ct = pd.crosstab(wdf[i], wdf[j], dropna=True)\n",
    "            h0, p_value, expected = h.chi2test(ct)\n",
    "            if not h0:\n",
    "                ct_full = pd.crosstab(wdf[i], wdf[j], dropna=False)\n",
    "                ct_full_norm = pd.crosstab(wdf[i], wdf[j], normalize='all', dropna=False)\n",
    "                pcfg.heatmap(ct_full_norm, f'ct_{x.index(i)}_{i}_{y.index(j)}_{j}_H0_{h0}_distribution', cmap=pcfg.light_cmap, fmt='.2%')\n",
    "                expected.resize(ct_full.shape)\n",
    "                pcfg.heatmap(ct_full - expected, f'ct_{x.index(i)}_{i}_{y.index(j)}_{j}_H0_{h0}_difference', cmap=pcfg.diverging_cmap)"
   ]
  },
  {
   "cell_type": "markdown",
   "metadata": {},
   "source": [
    "### Customers"
   ]
  },
  {
   "cell_type": "markdown",
   "metadata": {},
   "source": [
    "#### Total"
   ]
  },
  {
   "cell_type": "code",
   "execution_count": 41,
   "metadata": {},
   "outputs": [],
   "source": [
    "# Will be useful later\n",
    "avg_percent_of_yes = df['Customer'].value_counts(normalize=True).loc['Yes'] * 100"
   ]
  },
  {
   "cell_type": "code",
   "execution_count": 42,
   "metadata": {},
   "outputs": [],
   "source": [
    "df['Customer'].value_counts().plot.pie(**pcfg.pie_kwargs)\n",
    "pcfg.save_fig('res01_customer_00')"
   ]
  },
  {
   "cell_type": "markdown",
   "metadata": {},
   "source": [
    "#### By gender"
   ]
  },
  {
   "cell_type": "code",
   "execution_count": 43,
   "metadata": {},
   "outputs": [
    {
     "data": {
      "text/html": [
       "<div>\n",
       "<style scoped>\n",
       "    .dataframe tbody tr th:only-of-type {\n",
       "        vertical-align: middle;\n",
       "    }\n",
       "\n",
       "    .dataframe tbody tr th {\n",
       "        vertical-align: top;\n",
       "    }\n",
       "\n",
       "    .dataframe thead th {\n",
       "        text-align: right;\n",
       "    }\n",
       "</style>\n",
       "<table border=\"1\" class=\"dataframe\">\n",
       "  <thead>\n",
       "    <tr style=\"text-align: right;\">\n",
       "      <th>Gender</th>\n",
       "      <th>Male</th>\n",
       "      <th>Female</th>\n",
       "      <th>Other</th>\n",
       "    </tr>\n",
       "    <tr>\n",
       "      <th>Customer</th>\n",
       "      <th></th>\n",
       "      <th></th>\n",
       "      <th></th>\n",
       "    </tr>\n",
       "  </thead>\n",
       "  <tbody>\n",
       "    <tr>\n",
       "      <th>Yes</th>\n",
       "      <td>0</td>\n",
       "      <td>132</td>\n",
       "      <td>1</td>\n",
       "    </tr>\n",
       "    <tr>\n",
       "      <th>No</th>\n",
       "      <td>34</td>\n",
       "      <td>160</td>\n",
       "      <td>2</td>\n",
       "    </tr>\n",
       "  </tbody>\n",
       "</table>\n",
       "</div>"
      ],
      "text/plain": [
       "Gender    Male  Female  Other\n",
       "Customer                     \n",
       "Yes          0     132      1\n",
       "No          34     160      2"
      ]
     },
     "metadata": {},
     "output_type": "display_data"
    }
   ],
   "source": [
    "by_gender = pd.crosstab(df['Customer'], df['Gender'])\n",
    "display(by_gender)"
   ]
  },
  {
   "cell_type": "code",
   "execution_count": 44,
   "metadata": {},
   "outputs": [],
   "source": [
    "kwargs = dict(pcfg.pie_kwargs)\n",
    "kwargs.update({\n",
    "    'legend':       False,\n",
    "    'subplots':     True,\n",
    "    'layout':       (1,3),\n",
    "    'title':        list(by_gender.columns),\n",
    "})\n",
    "by_gender.plot.pie(**kwargs)\n",
    "pcfg.save_fig('res01_customer_01_gender')"
   ]
  },
  {
   "cell_type": "markdown",
   "metadata": {},
   "source": [
    "#### By age"
   ]
  },
  {
   "cell_type": "code",
   "execution_count": 45,
   "metadata": {},
   "outputs": [
    {
     "data": {
      "text/html": [
       "<div>\n",
       "<style scoped>\n",
       "    .dataframe tbody tr th:only-of-type {\n",
       "        vertical-align: middle;\n",
       "    }\n",
       "\n",
       "    .dataframe tbody tr th {\n",
       "        vertical-align: top;\n",
       "    }\n",
       "\n",
       "    .dataframe thead th {\n",
       "        text-align: right;\n",
       "    }\n",
       "</style>\n",
       "<table border=\"1\" class=\"dataframe\">\n",
       "  <thead>\n",
       "    <tr style=\"text-align: right;\">\n",
       "      <th>AgeGroup</th>\n",
       "      <th>&lt;25</th>\n",
       "      <th>25-35</th>\n",
       "      <th>35-45</th>\n",
       "      <th>&gt;45</th>\n",
       "    </tr>\n",
       "    <tr>\n",
       "      <th>Customer</th>\n",
       "      <th></th>\n",
       "      <th></th>\n",
       "      <th></th>\n",
       "      <th></th>\n",
       "    </tr>\n",
       "  </thead>\n",
       "  <tbody>\n",
       "    <tr>\n",
       "      <th>Yes</th>\n",
       "      <td>0.322581</td>\n",
       "      <td>0.456693</td>\n",
       "      <td>0.5</td>\n",
       "      <td>0.588235</td>\n",
       "    </tr>\n",
       "    <tr>\n",
       "      <th>No</th>\n",
       "      <td>0.677419</td>\n",
       "      <td>0.543307</td>\n",
       "      <td>0.5</td>\n",
       "      <td>0.411765</td>\n",
       "    </tr>\n",
       "  </tbody>\n",
       "</table>\n",
       "</div>"
      ],
      "text/plain": [
       "AgeGroup       <25     25-35  35-45       >45\n",
       "Customer                                     \n",
       "Yes       0.322581  0.456693    0.5  0.588235\n",
       "No        0.677419  0.543307    0.5  0.411765"
      ]
     },
     "metadata": {},
     "output_type": "display_data"
    }
   ],
   "source": [
    "by_age = pd.crosstab(df['Customer'], df['AgeGroup'], normalize='columns')\n",
    "display(by_age)"
   ]
  },
  {
   "cell_type": "code",
   "execution_count": 46,
   "metadata": {},
   "outputs": [],
   "source": [
    "y = by_age.iloc[0] * 100\n",
    "ax = y.plot.bar(**pcfg.bar_kwargs, color=pcfg.random_color())\n",
    "ax.axhline(avg_percent_of_yes, **pcfg.hline_kwargs)\n",
    "ax.set_xlabel('Age')\n",
    "ax.set_ylabel('Customers (%)')\n",
    "pcfg.hide_spines(ax)\n",
    "pcfg.save_fig('res01_customer_02_age')"
   ]
  },
  {
   "cell_type": "markdown",
   "metadata": {},
   "source": [
    "#### By education"
   ]
  },
  {
   "cell_type": "code",
   "execution_count": 47,
   "metadata": {},
   "outputs": [
    {
     "data": {
      "text/html": [
       "<div>\n",
       "<style scoped>\n",
       "    .dataframe tbody tr th:only-of-type {\n",
       "        vertical-align: middle;\n",
       "    }\n",
       "\n",
       "    .dataframe tbody tr th {\n",
       "        vertical-align: top;\n",
       "    }\n",
       "\n",
       "    .dataframe thead th {\n",
       "        text-align: right;\n",
       "    }\n",
       "</style>\n",
       "<table border=\"1\" class=\"dataframe\">\n",
       "  <thead>\n",
       "    <tr style=\"text-align: right;\">\n",
       "      <th>Education</th>\n",
       "      <th>Middle school</th>\n",
       "      <th>High school</th>\n",
       "      <th>Bachelor's degree</th>\n",
       "      <th>Master's degree</th>\n",
       "      <th>Postgraduate specialisation</th>\n",
       "      <th>PhD</th>\n",
       "    </tr>\n",
       "    <tr>\n",
       "      <th>Customer</th>\n",
       "      <th></th>\n",
       "      <th></th>\n",
       "      <th></th>\n",
       "      <th></th>\n",
       "      <th></th>\n",
       "      <th></th>\n",
       "    </tr>\n",
       "  </thead>\n",
       "  <tbody>\n",
       "    <tr>\n",
       "      <th>Yes</th>\n",
       "      <td>0.416667</td>\n",
       "      <td>0.356522</td>\n",
       "      <td>0.392523</td>\n",
       "      <td>0.43662</td>\n",
       "      <td>0.55</td>\n",
       "      <td>0.75</td>\n",
       "    </tr>\n",
       "    <tr>\n",
       "      <th>No</th>\n",
       "      <td>0.583333</td>\n",
       "      <td>0.643478</td>\n",
       "      <td>0.607477</td>\n",
       "      <td>0.56338</td>\n",
       "      <td>0.45</td>\n",
       "      <td>0.25</td>\n",
       "    </tr>\n",
       "  </tbody>\n",
       "</table>\n",
       "</div>"
      ],
      "text/plain": [
       "Education  Middle school  High school  Bachelor's degree  Master's degree  \\\n",
       "Customer                                                                    \n",
       "Yes             0.416667     0.356522           0.392523          0.43662   \n",
       "No              0.583333     0.643478           0.607477          0.56338   \n",
       "\n",
       "Education  Postgraduate specialisation   PhD  \n",
       "Customer                                      \n",
       "Yes                               0.55  0.75  \n",
       "No                                0.45  0.25  "
      ]
     },
     "metadata": {},
     "output_type": "display_data"
    }
   ],
   "source": [
    "by_education = pd.crosstab(df['Customer'], df['Education'], normalize='columns')\n",
    "display(by_education)"
   ]
  },
  {
   "cell_type": "code",
   "execution_count": 48,
   "metadata": {},
   "outputs": [],
   "source": [
    "kwargs = pcfg.bar_kwargs\n",
    "kwargs['rot'] = 60\n",
    "y = by_education.iloc[0] * 100\n",
    "ax = y.plot.bar(**kwargs, color=pcfg.random_color())\n",
    "ax.axhline(avg_percent_of_yes, **pcfg.hline_kwargs)\n",
    "ax.set_xlabel('')\n",
    "ax.set_ylabel('Customers (%)')\n",
    "pcfg.hide_spines(ax)\n",
    "pcfg.save_fig('res01_customer_03_education')"
   ]
  },
  {
   "cell_type": "markdown",
   "metadata": {},
   "source": [
    "#### By profession"
   ]
  },
  {
   "cell_type": "code",
   "execution_count": 49,
   "metadata": {},
   "outputs": [
    {
     "data": {
      "text/html": [
       "<div>\n",
       "<style scoped>\n",
       "    .dataframe tbody tr th:only-of-type {\n",
       "        vertical-align: middle;\n",
       "    }\n",
       "\n",
       "    .dataframe tbody tr th {\n",
       "        vertical-align: top;\n",
       "    }\n",
       "\n",
       "    .dataframe thead th {\n",
       "        text-align: right;\n",
       "    }\n",
       "</style>\n",
       "<table border=\"1\" class=\"dataframe\">\n",
       "  <thead>\n",
       "    <tr style=\"text-align: right;\">\n",
       "      <th>Profession</th>\n",
       "      <th>Student</th>\n",
       "      <th>Intern</th>\n",
       "      <th>Self-employed</th>\n",
       "      <th>Employed (fixed-term contract)</th>\n",
       "      <th>Employed (permanent contract)</th>\n",
       "      <th>Unemployed</th>\n",
       "      <th>Other</th>\n",
       "    </tr>\n",
       "    <tr>\n",
       "      <th>Customer</th>\n",
       "      <th></th>\n",
       "      <th></th>\n",
       "      <th></th>\n",
       "      <th></th>\n",
       "      <th></th>\n",
       "      <th></th>\n",
       "      <th></th>\n",
       "    </tr>\n",
       "  </thead>\n",
       "  <tbody>\n",
       "    <tr>\n",
       "      <th>Yes</th>\n",
       "      <td>0.297101</td>\n",
       "      <td>0.285714</td>\n",
       "      <td>0.52</td>\n",
       "      <td>0.414634</td>\n",
       "      <td>0.571429</td>\n",
       "      <td>0.45</td>\n",
       "      <td>0.428571</td>\n",
       "    </tr>\n",
       "    <tr>\n",
       "      <th>No</th>\n",
       "      <td>0.702899</td>\n",
       "      <td>0.714286</td>\n",
       "      <td>0.48</td>\n",
       "      <td>0.585366</td>\n",
       "      <td>0.428571</td>\n",
       "      <td>0.55</td>\n",
       "      <td>0.571429</td>\n",
       "    </tr>\n",
       "  </tbody>\n",
       "</table>\n",
       "</div>"
      ],
      "text/plain": [
       "Profession   Student    Intern  Self-employed  Employed (fixed-term contract)  \\\n",
       "Customer                                                                        \n",
       "Yes         0.297101  0.285714           0.52                        0.414634   \n",
       "No          0.702899  0.714286           0.48                        0.585366   \n",
       "\n",
       "Profession  Employed (permanent contract)  Unemployed     Other  \n",
       "Customer                                                         \n",
       "Yes                              0.571429        0.45  0.428571  \n",
       "No                               0.428571        0.55  0.571429  "
      ]
     },
     "metadata": {},
     "output_type": "display_data"
    }
   ],
   "source": [
    "by_profession = pd.crosstab(df['Customer'], df['Profession'], normalize='columns')\n",
    "display(by_profession)"
   ]
  },
  {
   "cell_type": "code",
   "execution_count": 50,
   "metadata": {},
   "outputs": [],
   "source": [
    "kwargs = pcfg.bar_kwargs\n",
    "kwargs['rot'] = 60\n",
    "y = by_profession.iloc[0] * 100\n",
    "ax = y.plot.bar(**kwargs, color=pcfg.random_color())\n",
    "ax.axhline(avg_percent_of_yes, **pcfg.hline_kwargs)\n",
    "ax.set_xlabel('')\n",
    "ax.set_ylabel('Customers (%)')\n",
    "pcfg.hide_spines(ax)\n",
    "pcfg.save_fig('res01_customer_04_profession')"
   ]
  },
  {
   "cell_type": "markdown",
   "metadata": {},
   "source": [
    "### Purchase frequency"
   ]
  },
  {
   "cell_type": "markdown",
   "metadata": {},
   "source": [
    "#### Total"
   ]
  },
  {
   "cell_type": "code",
   "execution_count": 51,
   "metadata": {},
   "outputs": [],
   "source": [
    "kwargs = pcfg.bar_kwargs\n",
    "kwargs['rot'] = 60\n",
    "y = df['Frequency'].value_counts(normalize=True) * 100\n",
    "ax = y.plot.bar(**kwargs, color=pcfg.random_color())\n",
    "ax.set_xlabel('')\n",
    "ax.set_ylabel('%')\n",
    "pcfg.hide_spines(ax)\n",
    "pcfg.save_fig('res02_frequency_00')"
   ]
  },
  {
   "cell_type": "code",
   "execution_count": 52,
   "metadata": {},
   "outputs": [],
   "source": [
    "import seaborn as sns\n",
    "import matplotlib.pyplot as plt\n",
    "sns.set_theme(style=\"white\")\n",
    "cmap = sns.light_palette(\"#2ecc71\", as_cmap=True)"
   ]
  },
  {
   "cell_type": "markdown",
   "metadata": {},
   "source": [
    "#### By age"
   ]
  },
  {
   "cell_type": "code",
   "execution_count": 53,
   "metadata": {},
   "outputs": [
    {
     "data": {
      "text/plain": [
       "<AxesSubplot:xlabel='AgeGroup', ylabel='Frequency'>"
      ]
     },
     "execution_count": 53,
     "metadata": {},
     "output_type": "execute_result"
    },
    {
     "data": {
      "image/png": "[encoded data removed]",
      "text/plain": [
       "<Figure size 432x288 with 2 Axes>"
      ]
     },
     "metadata": {},
     "output_type": "display_data"
    }
   ],
   "source": [
    "by_age = pd.crosstab(df['Frequency'], df['AgeGroup'], normalize='index', dropna=False)\n",
    "sns.heatmap(by_age, cmap=cmap, annot=True)"
   ]
  },
  {
   "cell_type": "markdown",
   "metadata": {},
   "source": [
    "#### By education"
   ]
  },
  {
   "cell_type": "code",
   "execution_count": 54,
   "metadata": {},
   "outputs": [
    {
     "data": {
      "text/plain": [
       "<AxesSubplot:xlabel='Education', ylabel='Frequency'>"
      ]
     },
     "execution_count": 54,
     "metadata": {},
     "output_type": "execute_result"
    },
    {
     "data": {
      "image/png": "[encoded data removed]",
      "text/plain": [
       "<Figure size 432x288 with 2 Axes>"
      ]
     },
     "metadata": {},
     "output_type": "display_data"
    }
   ],
   "source": [
    "by_education = pd.crosstab(df['Frequency'], df['Education'], normalize='index', dropna=False)\n",
    "sns.heatmap(by_education, cmap=cmap, annot=True)"
   ]
  },
  {
   "cell_type": "markdown",
   "metadata": {},
   "source": [
    "#### By profession"
   ]
  },
  {
   "cell_type": "code",
   "execution_count": 55,
   "metadata": {},
   "outputs": [
    {
     "data": {
      "text/plain": [
       "<AxesSubplot:xlabel='Profession', ylabel='Frequency'>"
      ]
     },
     "execution_count": 55,
     "metadata": {},
     "output_type": "execute_result"
    },
    {
     "data": {
      "image/png": "[encoded data removed]",
      "text/plain": [
       "<Figure size 432x288 with 2 Axes>"
      ]
     },
     "metadata": {},
     "output_type": "display_data"
    }
   ],
   "source": [
    "by_profession = pd.crosstab(df['Frequency'], df['Profession'], normalize='index', dropna=False)\n",
    "sns.heatmap(by_profession, cmap=cmap, annot=True)"
   ]
  },
  {
   "cell_type": "markdown",
   "metadata": {},
   "source": [
    "#### By purchase location"
   ]
  },
  {
   "cell_type": "code",
   "execution_count": 56,
   "metadata": {},
   "outputs": [
    {
     "data": {
      "text/plain": [
       "<AxesSubplot:xlabel='PurchaseLocation', ylabel='Frequency'>"
      ]
     },
     "execution_count": 56,
     "metadata": {},
     "output_type": "execute_result"
    },
    {
     "name": "stderr",
     "output_type": "stream",
     "text": [
      "/Users/Marco/Documents/Noemi/thesis_data_analysis/.venv/lib/python3.9/site-packages/IPython/core/pylabtools.py:151: UserWarning: Tight layout not applied. The bottom and top margins cannot be made large enough to accommodate all axes decorations.\n",
      "  fig.canvas.print_figure(bytes_io, **kw)\n"
     ]
    },
    {
     "data": {
      "image/png": "[encoded data removed]",
      "text/plain": [
       "<Figure size 432x288 with 2 Axes>"
      ]
     },
     "metadata": {},
     "output_type": "display_data"
    }
   ],
   "source": [
    "df_exploded = df.explode('PurchaseLocation')\n",
    "by_recepient = pd.crosstab(df_exploded['Frequency'], df_exploded['PurchaseLocation'], normalize='index', dropna=False) *100\n",
    "sns.heatmap(by_recepient, cmap=cmap, annot=True)"
   ]
  },
  {
   "cell_type": "markdown",
   "metadata": {},
   "source": [
    "#### By receipt amount"
   ]
  },
  {
   "cell_type": "code",
   "execution_count": 57,
   "metadata": {},
   "outputs": [
    {
     "data": {
      "text/plain": [
       "<AxesSubplot:xlabel='ReceiptAmountGroup', ylabel='Frequency'>"
      ]
     },
     "execution_count": 57,
     "metadata": {},
     "output_type": "execute_result"
    },
    {
     "data": {
      "image/png": "[encoded data removed]",
      "text/plain": [
       "<Figure size 432x288 with 2 Axes>"
      ]
     },
     "metadata": {},
     "output_type": "display_data"
    }
   ],
   "source": [
    "by_receipt = pd.crosstab(df['Frequency'], df['ReceiptAmountGroup'], normalize='index', dropna=False) *100\n",
    "sns.heatmap(by_receipt, cmap=cmap, annot=True)"
   ]
  },
  {
   "cell_type": "markdown",
   "metadata": {},
   "source": [
    "#### By recipient"
   ]
  },
  {
   "cell_type": "code",
   "execution_count": 58,
   "metadata": {},
   "outputs": [
    {
     "data": {
      "text/plain": [
       "<AxesSubplot:xlabel='SelfOrOthers', ylabel='Frequency'>"
      ]
     },
     "execution_count": 58,
     "metadata": {},
     "output_type": "execute_result"
    },
    {
     "data": {
      "image/png": "[encoded data removed]",
      "text/plain": [
       "<Figure size 432x288 with 2 Axes>"
      ]
     },
     "metadata": {},
     "output_type": "display_data"
    }
   ],
   "source": [
    "df_exploded = df.explode('SelfOrOthers')\n",
    "by_recepient = pd.crosstab(df_exploded['Frequency'], df_exploded['SelfOrOthers'], normalize='index', dropna=False) *100\n",
    "sns.heatmap(by_recepient, cmap=cmap, annot=True)"
   ]
  },
  {
   "cell_type": "markdown",
   "metadata": {},
   "source": [
    "### Brand known for"
   ]
  },
  {
   "cell_type": "markdown",
   "metadata": {},
   "source": [
    "#### Total"
   ]
  },
  {
   "cell_type": "code",
   "execution_count": 59,
   "metadata": {},
   "outputs": [
    {
     "data": {
      "text/plain": [
       "<AxesSubplot:>"
      ]
     },
     "execution_count": 59,
     "metadata": {},
     "output_type": "execute_result"
    },
    {
     "data": {
      "image/png": "[encoded data removed]",
      "text/plain": [
       "<Figure size 432x288 with 1 Axes>"
      ]
     },
     "metadata": {},
     "output_type": "display_data"
    }
   ],
   "source": [
    "df['BrandKnownFor'].value_counts().sort_index().plot.bar()"
   ]
  },
  {
   "cell_type": "markdown",
   "metadata": {},
   "source": [
    "#### By age"
   ]
  },
  {
   "cell_type": "code",
   "execution_count": 60,
   "metadata": {},
   "outputs": [
    {
     "data": {
      "text/plain": [
       "<AxesSubplot:xlabel='AgeGroup', ylabel='BrandKnownFor'>"
      ]
     },
     "execution_count": 60,
     "metadata": {},
     "output_type": "execute_result"
    },
    {
     "data": {
      "image/png": "[encoded data removed]",
      "text/plain": [
       "<Figure size 432x288 with 2 Axes>"
      ]
     },
     "metadata": {},
     "output_type": "display_data"
    }
   ],
   "source": [
    "by_age = pd.crosstab(df['BrandKnownFor'], df['AgeGroup'], normalize='columns', dropna=False)\n",
    "sns.heatmap(by_age, cmap=cmap, annot=True)"
   ]
  },
  {
   "cell_type": "markdown",
   "metadata": {},
   "source": [
    "#### By purchase location"
   ]
  },
  {
   "cell_type": "code",
   "execution_count": 61,
   "metadata": {},
   "outputs": [
    {
     "data": {
      "text/plain": [
       "<AxesSubplot:xlabel='PurchaseLocation', ylabel='BrandKnownFor'>"
      ]
     },
     "execution_count": 61,
     "metadata": {},
     "output_type": "execute_result"
    },
    {
     "name": "stderr",
     "output_type": "stream",
     "text": [
      "/Users/Marco/Documents/Noemi/thesis_data_analysis/.venv/lib/python3.9/site-packages/IPython/core/pylabtools.py:151: UserWarning: Tight layout not applied. The bottom and top margins cannot be made large enough to accommodate all axes decorations.\n",
      "  fig.canvas.print_figure(bytes_io, **kw)\n"
     ]
    },
    {
     "data": {
      "image/png": "[encoded data removed]",
      "text/plain": [
       "<Figure size 432x288 with 2 Axes>"
      ]
     },
     "metadata": {},
     "output_type": "display_data"
    }
   ],
   "source": [
    "df_exploded = df.explode('PurchaseLocation')\n",
    "by_recepient = pd.crosstab(df_exploded['BrandKnownFor'], df_exploded['PurchaseLocation'], normalize='index', dropna=False) *100\n",
    "sns.heatmap(by_recepient, cmap=cmap, annot=True)"
   ]
  },
  {
   "cell_type": "markdown",
   "metadata": {},
   "source": [
    "#### By receipt amount"
   ]
  },
  {
   "cell_type": "code",
   "execution_count": 62,
   "metadata": {},
   "outputs": [
    {
     "data": {
      "text/plain": [
       "<AxesSubplot:xlabel='ReceiptAmountGroup', ylabel='BrandKnownFor'>"
      ]
     },
     "execution_count": 62,
     "metadata": {},
     "output_type": "execute_result"
    },
    {
     "data": {
      "image/png": "[encoded data removed]",
      "text/plain": [
       "<Figure size 432x288 with 2 Axes>"
      ]
     },
     "metadata": {},
     "output_type": "display_data"
    }
   ],
   "source": [
    "by_receipt = pd.crosstab(df['BrandKnownFor'], df['ReceiptAmountGroup'], normalize='index', dropna=False) *100\n",
    "sns.heatmap(by_receipt, cmap=cmap, annot=True)"
   ]
  },
  {
   "cell_type": "markdown",
   "metadata": {},
   "source": [
    "#### By recipient"
   ]
  },
  {
   "cell_type": "code",
   "execution_count": 63,
   "metadata": {},
   "outputs": [
    {
     "data": {
      "text/plain": [
       "<AxesSubplot:xlabel='SelfOrOthers', ylabel='BrandKnownFor'>"
      ]
     },
     "execution_count": 63,
     "metadata": {},
     "output_type": "execute_result"
    },
    {
     "data": {
      "image/png": "[encoded data removed]",
      "text/plain": [
       "<Figure size 432x288 with 2 Axes>"
      ]
     },
     "metadata": {},
     "output_type": "display_data"
    }
   ],
   "source": [
    "df_exploded = df.explode('SelfOrOthers')\n",
    "by_recepient = pd.crosstab(df_exploded['BrandKnownFor'], df_exploded['SelfOrOthers'], normalize='index', dropna=False) *100\n",
    "sns.heatmap(by_recepient, cmap=cmap, annot=True)"
   ]
  },
  {
   "cell_type": "markdown",
   "metadata": {},
   "source": [
    "### Receipt amount"
   ]
  },
  {
   "cell_type": "markdown",
   "metadata": {},
   "source": [
    "#### Total"
   ]
  },
  {
   "cell_type": "code",
   "execution_count": 64,
   "metadata": {},
   "outputs": [],
   "source": [
    "kwargs = pcfg.bar_kwargs.copy()\n",
    "kwargs['color'] = pcfg.random_color()\n",
    "y = df['ReceiptAmountGroup'].value_counts(normalize=True).sort_index() * 100\n",
    "ax = y.plot.bar(**kwargs)\n",
    "ax.set_ylabel('%')\n",
    "pcfg.hide_spines(ax)\n",
    "pcfg.save_fig('res05_receipt')"
   ]
  },
  {
   "cell_type": "markdown",
   "metadata": {},
   "source": [
    "#### By age"
   ]
  },
  {
   "cell_type": "code",
   "execution_count": 65,
   "metadata": {},
   "outputs": [
    {
     "data": {
      "text/plain": [
       "<AxesSubplot:xlabel='AgeGroup', ylabel='ReceiptAmountGroup'>"
      ]
     },
     "execution_count": 65,
     "metadata": {},
     "output_type": "execute_result"
    },
    {
     "data": {
      "image/png": "[encoded data removed]",
      "text/plain": [
       "<Figure size 432x288 with 2 Axes>"
      ]
     },
     "metadata": {},
     "output_type": "display_data"
    }
   ],
   "source": [
    "by_age = pd.crosstab(df['ReceiptAmountGroup'], df['AgeGroup'], normalize='columns', dropna=False)\n",
    "sns.heatmap(by_age, cmap=cmap, annot=True)"
   ]
  },
  {
   "cell_type": "markdown",
   "metadata": {},
   "source": [
    "#### By profession"
   ]
  },
  {
   "cell_type": "code",
   "execution_count": 66,
   "metadata": {},
   "outputs": [
    {
     "data": {
      "text/plain": [
       "<AxesSubplot:xlabel='Profession', ylabel='ReceiptAmountGroup'>"
      ]
     },
     "execution_count": 66,
     "metadata": {},
     "output_type": "execute_result"
    },
    {
     "data": {
      "image/png": "[encoded data removed]",
      "text/plain": [
       "<Figure size 432x288 with 2 Axes>"
      ]
     },
     "metadata": {},
     "output_type": "display_data"
    }
   ],
   "source": [
    "by_profession = pd.crosstab(df['ReceiptAmountGroup'], df['Profession'], normalize='index', dropna=False)\n",
    "sns.heatmap(by_profession, cmap=cmap, annot=True)"
   ]
  },
  {
   "cell_type": "markdown",
   "metadata": {},
   "source": [
    "#### By purchase location"
   ]
  },
  {
   "cell_type": "code",
   "execution_count": 67,
   "metadata": {},
   "outputs": [
    {
     "data": {
      "text/plain": [
       "<AxesSubplot:xlabel='PurchaseLocation', ylabel='ReceiptAmountGroup'>"
      ]
     },
     "execution_count": 67,
     "metadata": {},
     "output_type": "execute_result"
    },
    {
     "name": "stderr",
     "output_type": "stream",
     "text": [
      "/Users/Marco/Documents/Noemi/thesis_data_analysis/.venv/lib/python3.9/site-packages/IPython/core/pylabtools.py:151: UserWarning: Tight layout not applied. The bottom and top margins cannot be made large enough to accommodate all axes decorations.\n",
      "  fig.canvas.print_figure(bytes_io, **kw)\n"
     ]
    },
    {
     "data": {
      "image/png": "[encoded data removed]",
      "text/plain": [
       "<Figure size 432x288 with 2 Axes>"
      ]
     },
     "metadata": {},
     "output_type": "display_data"
    }
   ],
   "source": [
    "df_exploded = df.explode('PurchaseLocation')\n",
    "by_recepient = pd.crosstab(df_exploded['ReceiptAmountGroup'], df_exploded['PurchaseLocation'], normalize='index', dropna=False) *100\n",
    "sns.heatmap(by_recepient, cmap=cmap, annot=True)"
   ]
  },
  {
   "cell_type": "markdown",
   "metadata": {},
   "source": [
    "#### By recipient"
   ]
  },
  {
   "cell_type": "code",
   "execution_count": 68,
   "metadata": {},
   "outputs": [
    {
     "data": {
      "text/plain": [
       "<AxesSubplot:xlabel='SelfOrOthers', ylabel='ReceiptAmountGroup'>"
      ]
     },
     "execution_count": 68,
     "metadata": {},
     "output_type": "execute_result"
    },
    {
     "data": {
      "image/png": "[encoded data removed]",
      "text/plain": [
       "<Figure size 432x288 with 2 Axes>"
      ]
     },
     "metadata": {},
     "output_type": "display_data"
    }
   ],
   "source": [
    "df_exploded = df.explode('SelfOrOthers')\n",
    "by_recepient = pd.crosstab(df_exploded['ReceiptAmountGroup'], df_exploded['SelfOrOthers'], normalize='index', dropna=False) *100\n",
    "sns.heatmap(by_recepient, cmap=cmap, annot=True)"
   ]
  },
  {
   "cell_type": "markdown",
   "metadata": {},
   "source": [
    "### Satisfaction"
   ]
  },
  {
   "cell_type": "markdown",
   "metadata": {},
   "source": [
    "#### Total"
   ]
  },
  {
   "cell_type": "code",
   "execution_count": 69,
   "metadata": {},
   "outputs": [],
   "source": [
    "kwargs = dict(pcfg.pie_kwargs)\n",
    "kwargs['labels'] = None\n",
    "df['Satisfaction'].value_counts().sort_index().plot.pie(**kwargs)\n",
    "pcfg.plt.legend(labels=df['Satisfaction'].value_counts().index, bbox_to_anchor=(0.8,0.8), loc='lower left')\n",
    "pcfg.save_fig('res07_satisfaction')"
   ]
  },
  {
   "cell_type": "markdown",
   "metadata": {},
   "source": [
    "#### By age"
   ]
  },
  {
   "cell_type": "code",
   "execution_count": 70,
   "metadata": {},
   "outputs": [
    {
     "data": {
      "text/plain": [
       "<AxesSubplot:xlabel='AgeGroup', ylabel='Satisfaction'>"
      ]
     },
     "execution_count": 70,
     "metadata": {},
     "output_type": "execute_result"
    },
    {
     "data": {
      "image/png": "[encoded data removed]",
      "text/plain": [
       "<Figure size 432x288 with 2 Axes>"
      ]
     },
     "metadata": {},
     "output_type": "display_data"
    }
   ],
   "source": [
    "by_age = pd.crosstab(df['Satisfaction'], df['AgeGroup'], normalize='columns', dropna=False)\n",
    "sns.heatmap(by_age, cmap=cmap, annot=True)"
   ]
  },
  {
   "cell_type": "markdown",
   "metadata": {},
   "source": [
    "#### By profession"
   ]
  },
  {
   "cell_type": "code",
   "execution_count": 71,
   "metadata": {},
   "outputs": [
    {
     "data": {
      "text/plain": [
       "<AxesSubplot:xlabel='Profession', ylabel='Satisfaction'>"
      ]
     },
     "execution_count": 71,
     "metadata": {},
     "output_type": "execute_result"
    },
    {
     "data": {
      "image/png": "[encoded data removed]",
      "text/plain": [
       "<Figure size 432x288 with 2 Axes>"
      ]
     },
     "metadata": {},
     "output_type": "display_data"
    }
   ],
   "source": [
    "by_profession = pd.crosstab(df['Satisfaction'], df['Profession'], normalize='columns', dropna=False)\n",
    "sns.heatmap(by_profession, cmap=cmap, annot=True)"
   ]
  },
  {
   "cell_type": "markdown",
   "metadata": {},
   "source": [
    "#### By purchase location"
   ]
  },
  {
   "cell_type": "code",
   "execution_count": 72,
   "metadata": {},
   "outputs": [
    {
     "data": {
      "text/plain": [
       "<AxesSubplot:xlabel='PurchaseLocation', ylabel='Satisfaction'>"
      ]
     },
     "execution_count": 72,
     "metadata": {},
     "output_type": "execute_result"
    },
    {
     "name": "stderr",
     "output_type": "stream",
     "text": [
      "/Users/Marco/Documents/Noemi/thesis_data_analysis/.venv/lib/python3.9/site-packages/IPython/core/pylabtools.py:151: UserWarning: Tight layout not applied. The bottom and top margins cannot be made large enough to accommodate all axes decorations.\n",
      "  fig.canvas.print_figure(bytes_io, **kw)\n"
     ]
    },
    {
     "data": {
      "image/png": "[encoded data removed]",
      "text/plain": [
       "<Figure size 432x288 with 2 Axes>"
      ]
     },
     "metadata": {},
     "output_type": "display_data"
    }
   ],
   "source": [
    "df_exploded = df.explode('PurchaseLocation')\n",
    "by_recepient = pd.crosstab(df_exploded['Satisfaction'], df_exploded['PurchaseLocation'], normalize='columns', dropna=False) *100\n",
    "sns.heatmap(by_recepient, cmap=cmap, annot=True)"
   ]
  },
  {
   "cell_type": "markdown",
   "metadata": {},
   "source": [
    "#### By receipt amount"
   ]
  },
  {
   "cell_type": "code",
   "execution_count": 73,
   "metadata": {},
   "outputs": [
    {
     "data": {
      "text/plain": [
       "<AxesSubplot:xlabel='ReceiptAmountGroup', ylabel='Satisfaction'>"
      ]
     },
     "execution_count": 73,
     "metadata": {},
     "output_type": "execute_result"
    },
    {
     "data": {
      "image/png": "[encoded data removed]",
      "text/plain": [
       "<Figure size 432x288 with 2 Axes>"
      ]
     },
     "metadata": {},
     "output_type": "display_data"
    }
   ],
   "source": [
    "by_receipt = pd.crosstab(df['Satisfaction'], df['ReceiptAmountGroup'], normalize='columns', dropna=False) *100\n",
    "sns.heatmap(by_receipt, cmap=cmap, annot=True)"
   ]
  },
  {
   "cell_type": "markdown",
   "metadata": {},
   "source": [
    "#### By recipient"
   ]
  },
  {
   "cell_type": "code",
   "execution_count": 74,
   "metadata": {},
   "outputs": [
    {
     "data": {
      "text/plain": [
       "<AxesSubplot:xlabel='SelfOrOthers', ylabel='Satisfaction'>"
      ]
     },
     "execution_count": 74,
     "metadata": {},
     "output_type": "execute_result"
    },
    {
     "data": {
      "image/png": "[encoded data removed]",
      "text/plain": [
       "<Figure size 432x288 with 2 Axes>"
      ]
     },
     "metadata": {},
     "output_type": "display_data"
    }
   ],
   "source": [
    "df_exploded = df.explode('SelfOrOthers')\n",
    "by_recepient = pd.crosstab(df_exploded['Satisfaction'], df_exploded['SelfOrOthers'], normalize='columns', dropna=False) *100\n",
    "sns.heatmap(by_recepient, cmap=cmap, annot=True)"
   ]
  },
  {
   "cell_type": "markdown",
   "metadata": {},
   "source": [
    "### Recipient"
   ]
  },
  {
   "cell_type": "markdown",
   "metadata": {},
   "source": [
    "#### Total"
   ]
  },
  {
   "cell_type": "code",
   "execution_count": 75,
   "metadata": {},
   "outputs": [
    {
     "name": "stdout",
     "output_type": "stream",
     "text": [
      "[Me]                     70.454545\n",
      "[Me, Family]             14.393939\n",
      "[Me, Friends]             6.818182\n",
      "[Me, Family, Friends]     6.060606\n",
      "[Family]                  1.515152\n",
      "[Me, Partner]             0.757576\n",
      "Name: SelfOrOthers, dtype: float64\n"
     ]
    }
   ],
   "source": [
    "y = df['SelfOrOthers'].value_counts(normalize=True) * 100\n",
    "print(y)\n",
    "ax = y.plot.bar(**pcfg.bar_kwargs, color=pcfg.random_color())\n",
    "ax.set_ylabel('%')\n",
    "pcfg.hide_spines(ax)\n",
    "pcfg.save_fig('res08_recipient')"
   ]
  },
  {
   "cell_type": "markdown",
   "metadata": {},
   "source": [
    "#### By age"
   ]
  },
  {
   "cell_type": "code",
   "execution_count": 76,
   "metadata": {},
   "outputs": [
    {
     "data": {
      "text/plain": [
       "<AxesSubplot:xlabel='AgeGroup', ylabel='SelfOrOthers'>"
      ]
     },
     "execution_count": 76,
     "metadata": {},
     "output_type": "execute_result"
    },
    {
     "data": {
      "image/png": "[encoded data removed]",
      "text/plain": [
       "<Figure size 432x288 with 2 Axes>"
      ]
     },
     "metadata": {},
     "output_type": "display_data"
    }
   ],
   "source": [
    "df_exploded = df.explode('SelfOrOthers')\n",
    "by_age = pd.crosstab(df_exploded['SelfOrOthers'], df_exploded['AgeGroup'], normalize='columns', dropna=False)\n",
    "sns.heatmap(by_age, cmap=cmap, annot=True)"
   ]
  },
  {
   "cell_type": "markdown",
   "metadata": {},
   "source": [
    "#### By purchase location"
   ]
  },
  {
   "cell_type": "code",
   "execution_count": 77,
   "metadata": {},
   "outputs": [
    {
     "data": {
      "text/plain": [
       "<AxesSubplot:xlabel='PurchaseLocation', ylabel='SelfOrOthers'>"
      ]
     },
     "execution_count": 77,
     "metadata": {},
     "output_type": "execute_result"
    },
    {
     "name": "stderr",
     "output_type": "stream",
     "text": [
      "/Users/Marco/Documents/Noemi/thesis_data_analysis/.venv/lib/python3.9/site-packages/IPython/core/pylabtools.py:151: UserWarning: Tight layout not applied. The bottom and top margins cannot be made large enough to accommodate all axes decorations.\n",
      "  fig.canvas.print_figure(bytes_io, **kw)\n"
     ]
    },
    {
     "data": {
      "image/png": "[encoded data removed]",
      "text/plain": [
       "<Figure size 432x288 with 2 Axes>"
      ]
     },
     "metadata": {},
     "output_type": "display_data"
    }
   ],
   "source": [
    "df_exploded = df.explode('SelfOrOthers')\n",
    "df_exploded1 = df_exploded.explode('PurchaseLocation')\n",
    "by_recepient = pd.crosstab(df_exploded1['SelfOrOthers'], df_exploded1['PurchaseLocation'], normalize='columns', dropna=False) *100\n",
    "sns.heatmap(by_recepient, cmap=cmap, annot=True)"
   ]
  },
  {
   "cell_type": "markdown",
   "metadata": {},
   "source": [
    "### Purchase location"
   ]
  },
  {
   "cell_type": "code",
   "execution_count": 78,
   "metadata": {},
   "outputs": [
    {
     "data": {
      "image/png": "[encoded data removed]",
      "text/plain": [
       "<Figure size 432x288 with 1 Axes>"
      ]
     },
     "metadata": {},
     "output_type": "display_data"
    }
   ],
   "source": [
    "vc_dict = df['PurchaseLocation'].value_counts().to_dict()\n",
    "v = venn3([\n",
    "    vc_dict['E-commerce'],\n",
    "    vc_dict['PopUp Store'],\n",
    "    vc_dict['E-commerce, PopUp Store'],\n",
    "    vc_dict['ClioMakeUp Experience Store'],\n",
    "    vc_dict['E-commerce, ClioMakeUp Experience Store'],\n",
    "    vc_dict['ClioMakeUp Experience Store, PopUp Store'],\n",
    "    vc_dict['E-commerce, ClioMakeUp Experience Store, PopUp Store']\n",
    "    ],\n",
    "    set_labels = ('E-commerce', 'PopUp Store', 'Experience Store'))"
   ]
  },
  {
   "cell_type": "code",
   "execution_count": 79,
   "metadata": {},
   "outputs": [],
   "source": [
    "df['PurchaseChannel'].value_counts()\n",
    "labels = ['Online', 'Offline', 'Both']\n",
    "channels = [76, 28, 29]\n",
    "\n",
    "fig, ax = plt.subplots()\n",
    "ax.pie(channels, labels=labels, autopct='%1.1f%%', startangle=90, colors=pcfg.colors)\n",
    "pcfg.save_fig('res03_purchase_channels')"
   ]
  }
 ],
 "metadata": {
  "kernelspec": {
   "display_name": "Python 3.9.13 ('.venv': venv)",
   "language": "python",
   "name": "python3"
  },
  "language_info": {
   "codemirror_mode": {
    "name": "ipython",
    "version": 3
   },
   "file_extension": ".py",
   "mimetype": "text/x-python",
   "name": "python",
   "nbconvert_exporter": "python",
   "pygments_lexer": "ipython3",
   "version": "3.9.13"
  },
  "orig_nbformat": 4,
  "vscode": {
   "interpreter": {
    "hash": "bdc9c8bf41bc0efad436f315607056d6d20e8108a077eb54aa3e7ca0a9c9c39f"
   }
  }
 },
 "nbformat": 4,
 "nbformat_minor": 2
}
